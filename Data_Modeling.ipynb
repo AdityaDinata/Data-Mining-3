{
  "nbformat": 4,
  "nbformat_minor": 0,
  "metadata": {
    "colab": {
      "provenance": [],
      "include_colab_link": true
    },
    "kernelspec": {
      "name": "python3",
      "display_name": "Python 3"
    },
    "language_info": {
      "name": "python"
    }
  },
  "cells": [
    {
      "cell_type": "markdown",
      "metadata": {
        "id": "view-in-github",
        "colab_type": "text"
      },
      "source": [
        "<a href=\"https://colab.research.google.com/github/AdityaDinata/Data-Mining-3/blob/main/Data_Modeling.ipynb\" target=\"_parent\"><img src=\"https://colab.research.google.com/assets/colab-badge.svg\" alt=\"Open In Colab\"/></a>"
      ]
    },
    {
      "cell_type": "markdown",
      "source": [
        "# **Analisis Performa Hero dalam kejuaraan M5 World Championship**"
      ],
      "metadata": {
        "id": "h3AZjxo2ZxS6"
      }
    },
    {
      "cell_type": "markdown",
      "source": [
        "#**Import Library**"
      ],
      "metadata": {
        "id": "JNBmfbIjWxgM"
      }
    },
    {
      "cell_type": "code",
      "source": [
        "import pandas as pd\n",
        "import matplotlib.pyplot as plt\n",
        "import seaborn as sns\n",
        "import numpy as np\n",
        "import plotly.express as px\n",
        "import plotly.graph_objects as go\n",
        "from plotly.subplots import make_subplots\n",
        "from sklearn.cluster import KMeans\n",
        "from sklearn.preprocessing import MinMaxScaler"
      ],
      "metadata": {
        "id": "JsnHJGLtW06a"
      },
      "execution_count": 103,
      "outputs": []
    },
    {
      "cell_type": "code",
      "source": [
        "from sklearn.cluster import AgglomerativeClustering"
      ],
      "metadata": {
        "id": "W447kXty2TUS"
      },
      "execution_count": 104,
      "outputs": []
    },
    {
      "cell_type": "code",
      "source": [
        "from sklearn.model_selection import train_test_split"
      ],
      "metadata": {
        "id": "-LWQwwgyvCtm"
      },
      "execution_count": 105,
      "outputs": []
    },
    {
      "cell_type": "code",
      "source": [
        "from sklearn.tree import DecisionTreeClassifier"
      ],
      "metadata": {
        "id": "Jo_zrr-21n1N"
      },
      "execution_count": 106,
      "outputs": []
    },
    {
      "cell_type": "code",
      "source": [
        "from sklearn.metrics import accuracy_score"
      ],
      "metadata": {
        "id": "ruMgF9OFGziD"
      },
      "execution_count": 107,
      "outputs": []
    },
    {
      "cell_type": "code",
      "source": [
        "from sklearn.preprocessing import MinMaxScaler"
      ],
      "metadata": {
        "id": "R8hXcMFoGs7-"
      },
      "execution_count": 108,
      "outputs": []
    },
    {
      "cell_type": "markdown",
      "source": [
        "#**BUSINESS UNDERSTANDING**"
      ],
      "metadata": {
        "id": "NjuQhrNyZtm3"
      }
    },
    {
      "cell_type": "markdown",
      "source": [
        "##**Business Objective**"
      ],
      "metadata": {
        "id": "qzSZy2KwZ4zx"
      }
    },
    {
      "cell_type": "markdown",
      "source": [
        "M5 World Championship adalah kejuaraan Mobile Legends Bang Bang (MLBB) tertinggi di dunia, yang sering dijadikan tolok ukur bagi para pemain MLBB. Analisis ini bertujuan untuk memberikan wawasan tentang performa hero di kejuaraan M5 agar para pemain MLBB dapat memilih hero dengan lebih baik.\n",
        "\n"
      ],
      "metadata": {
        "id": "hU2-bH_KZ8Ge"
      }
    },
    {
      "cell_type": "markdown",
      "source": [
        "##**Assess Situation**"
      ],
      "metadata": {
        "id": "3dTYY-qjZ_Yz"
      }
    },
    {
      "cell_type": "markdown",
      "source": [
        "Pertumbuhan pesat industri e-sports dan popularitas MLBB membuat para pemain semakin tertarik untuk memahami hero dan tren meta di level kompetisi tingkat dunia. Namun, kurangnya pemahaman yang mendalam tentang kinerja hero dan tren meta di M5 World Championship menjadi hambatan bagi para pemain dalam membuat keputusan strategis dalam permainan."
      ],
      "metadata": {
        "id": "3mI7ZTjDaGnC"
      }
    },
    {
      "cell_type": "markdown",
      "source": [
        "##**Data Mining Goals**"
      ],
      "metadata": {
        "id": "Tqvpt5r-aJKs"
      }
    },
    {
      "cell_type": "markdown",
      "source": [
        "1. **Menganalisis Kinerja Hero:** Meneliti kinerja berbagai hero yang digunakan dalam M5 World Championship untuk mengidentifikasi hero yang efektif dan populer.\n",
        "\n",
        "2. **Menganalisis Meta Permainan:** Memeriksa tren meta permainan yang dominan dalam M5 World Championship untuk memberikan wawasan tentang strategi dan gaya bermain yang efektif.\n",
        "\n",
        "3. **Memberikan Rekomendasi kepada Pemain:** Memberikan rekomendasi kepada pemain MLBB tentang pilihan hero berdasarkan kinerja mereka di M5 World Championship.\n",
        "\n"
      ],
      "metadata": {
        "id": "GXsyNC0zaO-o"
      }
    },
    {
      "cell_type": "markdown",
      "source": [
        "##**Project Plan**"
      ],
      "metadata": {
        "id": "78Yvo7Q9aRTt"
      }
    },
    {
      "cell_type": "markdown",
      "source": [
        "1. **Data Collection**: Mengumpulkan data kinerja hero dari sumber terpercaya, seperti statistik pick, win, dan loss.\n",
        "2. **Data Preprocessing**: Membersihkan dan mempersiapkan data untuk analisis dengan menghilangkan entri yang tidak relevan atau tidak lengkap.\n",
        "3. **Exploratory Data Analysis (EDA)**: Mengeksplorasi distribusi, tren, dan pola kinerja hero melalui visualisasi data.\n",
        "4. **Advanced Analysis**: Melakukan analisis lebih lanjut untuk mengidentifikasi hero dominan dan tren strategi yang efektif.\n",
        "5. **Visualization**: Membuat visualisasi untuk menyajikan hasil analisis dengan jelas dan mudah dimengerti.\n",
        "6. **Documentation**: Mendokumentasikan metodologi, temuan, dan rekomendasi dalam sebuah laporan.\n",
        "7. **Validation and Iteration**: Melakukan validasi hasil analisis dan iterasi tambahan jika diperlukan untuk memastikan kualitas dan keakuratan analisis."
      ],
      "metadata": {
        "id": "H0uheBdyaUfH"
      }
    },
    {
      "cell_type": "markdown",
      "source": [
        "#**DATA UNDERSTANDING**"
      ],
      "metadata": {
        "id": "8yFrLpBtZXuy"
      }
    },
    {
      "cell_type": "markdown",
      "source": [
        "##**Collect Initial Data**"
      ],
      "metadata": {
        "id": "tjm5LzEuT0oe"
      }
    },
    {
      "cell_type": "markdown",
      "source": [
        "Data ini berisi statistik hero yang digunakan di M5 World Championship\n",
        "Sumber dari data ini kagle https://www.kaggle.com/datasets/myudak/m5-world-championship"
      ],
      "metadata": {
        "id": "SsIGird1UBw8"
      }
    },
    {
      "cell_type": "code",
      "execution_count": 109,
      "metadata": {
        "id": "3ncBfThxSpiL",
        "colab": {
          "base_uri": "https://localhost:8080/",
          "height": 273
        },
        "outputId": "d7093bef-0d85-40f0-b49a-35edf58a3f1a"
      },
      "outputs": [
        {
          "output_type": "execute_result",
          "data": {
            "text/plain": [
              "   T_Picked  T_Wins  T_Loses  T_WinRate  T_PickPercentage  BS_Picked  BS_Wins  \\\n",
              "0       527     265      262      50.28             37.70        258      125   \n",
              "1       502     255      247      50.80             35.91        245      129   \n",
              "2       479     215      264      44.89             34.26        249      121   \n",
              "3       460     249      211      54.13             32.90        224      118   \n",
              "4       433     233      200      53.81             30.97        198       99   \n",
              "\n",
              "   BS_Loses  BS_WinRate  RS_Picked  ...  Hero_ Valir  Hero_ Vexana  \\\n",
              "0       133       48.45        269  ...            0             0   \n",
              "1       116       52.65        257  ...            0             0   \n",
              "2       128       48.59        230  ...            0             0   \n",
              "3       106       52.68        236  ...            0             0   \n",
              "4        99       50.00        235  ...            0             0   \n",
              "\n",
              "   Hero_ Wanwan  Hero_ X.Borg  Hero_ Xavier  Hero_ Yi Sun-Shin  Hero_ Yin  \\\n",
              "0             0             0             0                  0          0   \n",
              "1             0             0             0                  0          0   \n",
              "2             0             0             0                  0          0   \n",
              "3             0             0             0                  0          0   \n",
              "4             0             0             0                  0          0   \n",
              "\n",
              "   Hero_ Yu Zhong  Hero_ Yve  Hero_ Zilong  \n",
              "0               0          0             0  \n",
              "1               0          0             0  \n",
              "2               0          0             0  \n",
              "3               0          0             0  \n",
              "4               0          0             0  \n",
              "\n",
              "[5 rows x 128 columns]"
            ],
            "text/html": [
              "\n",
              "  <div id=\"df-a40dce83-6e95-4d58-a0de-1ad1a7db1248\" class=\"colab-df-container\">\n",
              "    <div>\n",
              "<style scoped>\n",
              "    .dataframe tbody tr th:only-of-type {\n",
              "        vertical-align: middle;\n",
              "    }\n",
              "\n",
              "    .dataframe tbody tr th {\n",
              "        vertical-align: top;\n",
              "    }\n",
              "\n",
              "    .dataframe thead th {\n",
              "        text-align: right;\n",
              "    }\n",
              "</style>\n",
              "<table border=\"1\" class=\"dataframe\">\n",
              "  <thead>\n",
              "    <tr style=\"text-align: right;\">\n",
              "      <th></th>\n",
              "      <th>T_Picked</th>\n",
              "      <th>T_Wins</th>\n",
              "      <th>T_Loses</th>\n",
              "      <th>T_WinRate</th>\n",
              "      <th>T_PickPercentage</th>\n",
              "      <th>BS_Picked</th>\n",
              "      <th>BS_Wins</th>\n",
              "      <th>BS_Loses</th>\n",
              "      <th>BS_WinRate</th>\n",
              "      <th>RS_Picked</th>\n",
              "      <th>...</th>\n",
              "      <th>Hero_ Valir</th>\n",
              "      <th>Hero_ Vexana</th>\n",
              "      <th>Hero_ Wanwan</th>\n",
              "      <th>Hero_ X.Borg</th>\n",
              "      <th>Hero_ Xavier</th>\n",
              "      <th>Hero_ Yi Sun-Shin</th>\n",
              "      <th>Hero_ Yin</th>\n",
              "      <th>Hero_ Yu Zhong</th>\n",
              "      <th>Hero_ Yve</th>\n",
              "      <th>Hero_ Zilong</th>\n",
              "    </tr>\n",
              "  </thead>\n",
              "  <tbody>\n",
              "    <tr>\n",
              "      <th>0</th>\n",
              "      <td>527</td>\n",
              "      <td>265</td>\n",
              "      <td>262</td>\n",
              "      <td>50.28</td>\n",
              "      <td>37.70</td>\n",
              "      <td>258</td>\n",
              "      <td>125</td>\n",
              "      <td>133</td>\n",
              "      <td>48.45</td>\n",
              "      <td>269</td>\n",
              "      <td>...</td>\n",
              "      <td>0</td>\n",
              "      <td>0</td>\n",
              "      <td>0</td>\n",
              "      <td>0</td>\n",
              "      <td>0</td>\n",
              "      <td>0</td>\n",
              "      <td>0</td>\n",
              "      <td>0</td>\n",
              "      <td>0</td>\n",
              "      <td>0</td>\n",
              "    </tr>\n",
              "    <tr>\n",
              "      <th>1</th>\n",
              "      <td>502</td>\n",
              "      <td>255</td>\n",
              "      <td>247</td>\n",
              "      <td>50.80</td>\n",
              "      <td>35.91</td>\n",
              "      <td>245</td>\n",
              "      <td>129</td>\n",
              "      <td>116</td>\n",
              "      <td>52.65</td>\n",
              "      <td>257</td>\n",
              "      <td>...</td>\n",
              "      <td>0</td>\n",
              "      <td>0</td>\n",
              "      <td>0</td>\n",
              "      <td>0</td>\n",
              "      <td>0</td>\n",
              "      <td>0</td>\n",
              "      <td>0</td>\n",
              "      <td>0</td>\n",
              "      <td>0</td>\n",
              "      <td>0</td>\n",
              "    </tr>\n",
              "    <tr>\n",
              "      <th>2</th>\n",
              "      <td>479</td>\n",
              "      <td>215</td>\n",
              "      <td>264</td>\n",
              "      <td>44.89</td>\n",
              "      <td>34.26</td>\n",
              "      <td>249</td>\n",
              "      <td>121</td>\n",
              "      <td>128</td>\n",
              "      <td>48.59</td>\n",
              "      <td>230</td>\n",
              "      <td>...</td>\n",
              "      <td>0</td>\n",
              "      <td>0</td>\n",
              "      <td>0</td>\n",
              "      <td>0</td>\n",
              "      <td>0</td>\n",
              "      <td>0</td>\n",
              "      <td>0</td>\n",
              "      <td>0</td>\n",
              "      <td>0</td>\n",
              "      <td>0</td>\n",
              "    </tr>\n",
              "    <tr>\n",
              "      <th>3</th>\n",
              "      <td>460</td>\n",
              "      <td>249</td>\n",
              "      <td>211</td>\n",
              "      <td>54.13</td>\n",
              "      <td>32.90</td>\n",
              "      <td>224</td>\n",
              "      <td>118</td>\n",
              "      <td>106</td>\n",
              "      <td>52.68</td>\n",
              "      <td>236</td>\n",
              "      <td>...</td>\n",
              "      <td>0</td>\n",
              "      <td>0</td>\n",
              "      <td>0</td>\n",
              "      <td>0</td>\n",
              "      <td>0</td>\n",
              "      <td>0</td>\n",
              "      <td>0</td>\n",
              "      <td>0</td>\n",
              "      <td>0</td>\n",
              "      <td>0</td>\n",
              "    </tr>\n",
              "    <tr>\n",
              "      <th>4</th>\n",
              "      <td>433</td>\n",
              "      <td>233</td>\n",
              "      <td>200</td>\n",
              "      <td>53.81</td>\n",
              "      <td>30.97</td>\n",
              "      <td>198</td>\n",
              "      <td>99</td>\n",
              "      <td>99</td>\n",
              "      <td>50.00</td>\n",
              "      <td>235</td>\n",
              "      <td>...</td>\n",
              "      <td>0</td>\n",
              "      <td>0</td>\n",
              "      <td>0</td>\n",
              "      <td>0</td>\n",
              "      <td>0</td>\n",
              "      <td>0</td>\n",
              "      <td>0</td>\n",
              "      <td>0</td>\n",
              "      <td>0</td>\n",
              "      <td>0</td>\n",
              "    </tr>\n",
              "  </tbody>\n",
              "</table>\n",
              "<p>5 rows × 128 columns</p>\n",
              "</div>\n",
              "    <div class=\"colab-df-buttons\">\n",
              "\n",
              "  <div class=\"colab-df-container\">\n",
              "    <button class=\"colab-df-convert\" onclick=\"convertToInteractive('df-a40dce83-6e95-4d58-a0de-1ad1a7db1248')\"\n",
              "            title=\"Convert this dataframe to an interactive table.\"\n",
              "            style=\"display:none;\">\n",
              "\n",
              "  <svg xmlns=\"http://www.w3.org/2000/svg\" height=\"24px\" viewBox=\"0 -960 960 960\">\n",
              "    <path d=\"M120-120v-720h720v720H120Zm60-500h600v-160H180v160Zm220 220h160v-160H400v160Zm0 220h160v-160H400v160ZM180-400h160v-160H180v160Zm440 0h160v-160H620v160ZM180-180h160v-160H180v160Zm440 0h160v-160H620v160Z\"/>\n",
              "  </svg>\n",
              "    </button>\n",
              "\n",
              "  <style>\n",
              "    .colab-df-container {\n",
              "      display:flex;\n",
              "      gap: 12px;\n",
              "    }\n",
              "\n",
              "    .colab-df-convert {\n",
              "      background-color: #E8F0FE;\n",
              "      border: none;\n",
              "      border-radius: 50%;\n",
              "      cursor: pointer;\n",
              "      display: none;\n",
              "      fill: #1967D2;\n",
              "      height: 32px;\n",
              "      padding: 0 0 0 0;\n",
              "      width: 32px;\n",
              "    }\n",
              "\n",
              "    .colab-df-convert:hover {\n",
              "      background-color: #E2EBFA;\n",
              "      box-shadow: 0px 1px 2px rgba(60, 64, 67, 0.3), 0px 1px 3px 1px rgba(60, 64, 67, 0.15);\n",
              "      fill: #174EA6;\n",
              "    }\n",
              "\n",
              "    .colab-df-buttons div {\n",
              "      margin-bottom: 4px;\n",
              "    }\n",
              "\n",
              "    [theme=dark] .colab-df-convert {\n",
              "      background-color: #3B4455;\n",
              "      fill: #D2E3FC;\n",
              "    }\n",
              "\n",
              "    [theme=dark] .colab-df-convert:hover {\n",
              "      background-color: #434B5C;\n",
              "      box-shadow: 0px 1px 3px 1px rgba(0, 0, 0, 0.15);\n",
              "      filter: drop-shadow(0px 1px 2px rgba(0, 0, 0, 0.3));\n",
              "      fill: #FFFFFF;\n",
              "    }\n",
              "  </style>\n",
              "\n",
              "    <script>\n",
              "      const buttonEl =\n",
              "        document.querySelector('#df-a40dce83-6e95-4d58-a0de-1ad1a7db1248 button.colab-df-convert');\n",
              "      buttonEl.style.display =\n",
              "        google.colab.kernel.accessAllowed ? 'block' : 'none';\n",
              "\n",
              "      async function convertToInteractive(key) {\n",
              "        const element = document.querySelector('#df-a40dce83-6e95-4d58-a0de-1ad1a7db1248');\n",
              "        const dataTable =\n",
              "          await google.colab.kernel.invokeFunction('convertToInteractive',\n",
              "                                                    [key], {});\n",
              "        if (!dataTable) return;\n",
              "\n",
              "        const docLinkHtml = 'Like what you see? Visit the ' +\n",
              "          '<a target=\"_blank\" href=https://colab.research.google.com/notebooks/data_table.ipynb>data table notebook</a>'\n",
              "          + ' to learn more about interactive tables.';\n",
              "        element.innerHTML = '';\n",
              "        dataTable['output_type'] = 'display_data';\n",
              "        await google.colab.output.renderOutput(dataTable, element);\n",
              "        const docLink = document.createElement('div');\n",
              "        docLink.innerHTML = docLinkHtml;\n",
              "        element.appendChild(docLink);\n",
              "      }\n",
              "    </script>\n",
              "  </div>\n",
              "\n",
              "\n",
              "<div id=\"df-4a9861af-4d70-4188-9f6c-ba6970f7ba67\">\n",
              "  <button class=\"colab-df-quickchart\" onclick=\"quickchart('df-4a9861af-4d70-4188-9f6c-ba6970f7ba67')\"\n",
              "            title=\"Suggest charts\"\n",
              "            style=\"display:none;\">\n",
              "\n",
              "<svg xmlns=\"http://www.w3.org/2000/svg\" height=\"24px\"viewBox=\"0 0 24 24\"\n",
              "     width=\"24px\">\n",
              "    <g>\n",
              "        <path d=\"M19 3H5c-1.1 0-2 .9-2 2v14c0 1.1.9 2 2 2h14c1.1 0 2-.9 2-2V5c0-1.1-.9-2-2-2zM9 17H7v-7h2v7zm4 0h-2V7h2v10zm4 0h-2v-4h2v4z\"/>\n",
              "    </g>\n",
              "</svg>\n",
              "  </button>\n",
              "\n",
              "<style>\n",
              "  .colab-df-quickchart {\n",
              "      --bg-color: #E8F0FE;\n",
              "      --fill-color: #1967D2;\n",
              "      --hover-bg-color: #E2EBFA;\n",
              "      --hover-fill-color: #174EA6;\n",
              "      --disabled-fill-color: #AAA;\n",
              "      --disabled-bg-color: #DDD;\n",
              "  }\n",
              "\n",
              "  [theme=dark] .colab-df-quickchart {\n",
              "      --bg-color: #3B4455;\n",
              "      --fill-color: #D2E3FC;\n",
              "      --hover-bg-color: #434B5C;\n",
              "      --hover-fill-color: #FFFFFF;\n",
              "      --disabled-bg-color: #3B4455;\n",
              "      --disabled-fill-color: #666;\n",
              "  }\n",
              "\n",
              "  .colab-df-quickchart {\n",
              "    background-color: var(--bg-color);\n",
              "    border: none;\n",
              "    border-radius: 50%;\n",
              "    cursor: pointer;\n",
              "    display: none;\n",
              "    fill: var(--fill-color);\n",
              "    height: 32px;\n",
              "    padding: 0;\n",
              "    width: 32px;\n",
              "  }\n",
              "\n",
              "  .colab-df-quickchart:hover {\n",
              "    background-color: var(--hover-bg-color);\n",
              "    box-shadow: 0 1px 2px rgba(60, 64, 67, 0.3), 0 1px 3px 1px rgba(60, 64, 67, 0.15);\n",
              "    fill: var(--button-hover-fill-color);\n",
              "  }\n",
              "\n",
              "  .colab-df-quickchart-complete:disabled,\n",
              "  .colab-df-quickchart-complete:disabled:hover {\n",
              "    background-color: var(--disabled-bg-color);\n",
              "    fill: var(--disabled-fill-color);\n",
              "    box-shadow: none;\n",
              "  }\n",
              "\n",
              "  .colab-df-spinner {\n",
              "    border: 2px solid var(--fill-color);\n",
              "    border-color: transparent;\n",
              "    border-bottom-color: var(--fill-color);\n",
              "    animation:\n",
              "      spin 1s steps(1) infinite;\n",
              "  }\n",
              "\n",
              "  @keyframes spin {\n",
              "    0% {\n",
              "      border-color: transparent;\n",
              "      border-bottom-color: var(--fill-color);\n",
              "      border-left-color: var(--fill-color);\n",
              "    }\n",
              "    20% {\n",
              "      border-color: transparent;\n",
              "      border-left-color: var(--fill-color);\n",
              "      border-top-color: var(--fill-color);\n",
              "    }\n",
              "    30% {\n",
              "      border-color: transparent;\n",
              "      border-left-color: var(--fill-color);\n",
              "      border-top-color: var(--fill-color);\n",
              "      border-right-color: var(--fill-color);\n",
              "    }\n",
              "    40% {\n",
              "      border-color: transparent;\n",
              "      border-right-color: var(--fill-color);\n",
              "      border-top-color: var(--fill-color);\n",
              "    }\n",
              "    60% {\n",
              "      border-color: transparent;\n",
              "      border-right-color: var(--fill-color);\n",
              "    }\n",
              "    80% {\n",
              "      border-color: transparent;\n",
              "      border-right-color: var(--fill-color);\n",
              "      border-bottom-color: var(--fill-color);\n",
              "    }\n",
              "    90% {\n",
              "      border-color: transparent;\n",
              "      border-bottom-color: var(--fill-color);\n",
              "    }\n",
              "  }\n",
              "</style>\n",
              "\n",
              "  <script>\n",
              "    async function quickchart(key) {\n",
              "      const quickchartButtonEl =\n",
              "        document.querySelector('#' + key + ' button');\n",
              "      quickchartButtonEl.disabled = true;  // To prevent multiple clicks.\n",
              "      quickchartButtonEl.classList.add('colab-df-spinner');\n",
              "      try {\n",
              "        const charts = await google.colab.kernel.invokeFunction(\n",
              "            'suggestCharts', [key], {});\n",
              "      } catch (error) {\n",
              "        console.error('Error during call to suggestCharts:', error);\n",
              "      }\n",
              "      quickchartButtonEl.classList.remove('colab-df-spinner');\n",
              "      quickchartButtonEl.classList.add('colab-df-quickchart-complete');\n",
              "    }\n",
              "    (() => {\n",
              "      let quickchartButtonEl =\n",
              "        document.querySelector('#df-4a9861af-4d70-4188-9f6c-ba6970f7ba67 button');\n",
              "      quickchartButtonEl.style.display =\n",
              "        google.colab.kernel.accessAllowed ? 'block' : 'none';\n",
              "    })();\n",
              "  </script>\n",
              "</div>\n",
              "    </div>\n",
              "  </div>\n"
            ],
            "application/vnd.google.colaboratory.intrinsic+json": {
              "type": "dataframe"
            }
          },
          "metadata": {},
          "execution_count": 109
        }
      ],
      "source": [
        "df = pd.read_csv(\"https://raw.githubusercontent.com/AdityaDinata/Data-Mining-3/main/Data%20Cleaned.csv\")\n",
        "df.head()\n",
        "# df = pd.read_csv(\"Data Cleaned.csv\")\n",
        "# df.head()\n"
      ]
    },
    {
      "cell_type": "markdown",
      "source": [
        "##**Describe Data**"
      ],
      "metadata": {
        "id": "-hy6_uvIVOGH"
      }
    },
    {
      "cell_type": "markdown",
      "source": [
        "####Informasi Dasar"
      ],
      "metadata": {
        "id": "nl6nccPmUZ6F"
      }
    },
    {
      "cell_type": "code",
      "source": [
        "\n",
        "jumlah_baris = df.shape[0]\n",
        "jumlah_kolom = df.shape[1]\n",
        "\n",
        "print(\"Jumlah baris:\", jumlah_baris)\n",
        "print(\"Jumlah kolom:\", jumlah_kolom)"
      ],
      "metadata": {
        "id": "zEyDvT0EUcB2",
        "colab": {
          "base_uri": "https://localhost:8080/"
        },
        "outputId": "9f8a62c2-ff9b-4c85-f109-35e289287fa9"
      },
      "execution_count": 110,
      "outputs": [
        {
          "output_type": "stream",
          "name": "stdout",
          "text": [
            "Jumlah baris: 110\n",
            "Jumlah kolom: 128\n"
          ]
        }
      ]
    },
    {
      "cell_type": "markdown",
      "source": [
        "Di dalam dataset ini terdapat 115 jumlah baris dan 23 jumlah kolom"
      ],
      "metadata": {
        "id": "ZwH62IRTVXNL"
      }
    },
    {
      "cell_type": "markdown",
      "source": [
        "####Informasi Lanjutan"
      ],
      "metadata": {
        "id": "BXEzaPAHVMPd"
      }
    },
    {
      "cell_type": "code",
      "source": [
        "df.info()"
      ],
      "metadata": {
        "id": "L1CvPak8VHOF",
        "colab": {
          "base_uri": "https://localhost:8080/"
        },
        "outputId": "79e57b4d-178b-4a4c-b7c0-27e5d435f900"
      },
      "execution_count": 111,
      "outputs": [
        {
          "output_type": "stream",
          "name": "stdout",
          "text": [
            "<class 'pandas.core.frame.DataFrame'>\n",
            "RangeIndex: 110 entries, 0 to 109\n",
            "Columns: 128 entries, T_Picked to Hero_ Zilong\n",
            "dtypes: float64(7), int64(121)\n",
            "memory usage: 110.1 KB\n"
          ]
        }
      ]
    },
    {
      "cell_type": "markdown",
      "source": [
        "\n",
        "\n",
        "1. **Index**: Nomor indeks.\n",
        "   - Jumlah: 115\n",
        "   - Tipe Data: integer (int64)\n",
        "\n",
        "2. **Hero**: Nama Hero.\n",
        "   - Jumlah: 115\n",
        "   - Tipe Data: object\n",
        "\n",
        "3. **T_Picked**: Total Hero dipilih.\n",
        "   - Jumlah: 115\n",
        "   - Tipe Data: integer (int64)\n",
        "\n",
        "4. **T_Wins**: Total kemenangan dengan Hero tersebut.\n",
        "   - Jumlah: 115\n",
        "   - Tipe Data: integer (int64)\n",
        "\n",
        "5. **T_Loses**: Total kekalahan dengan Hero tersebut.\n",
        "   - Jumlah: 115\n",
        "   - Tipe Data: integer (int64)\n",
        "\n",
        "6. **T_WinRate**: Persentase kemenangan (T_Wins / Total Games).\n",
        "   - Jumlah: 115\n",
        "   - Tipe Data: object\n",
        "\n",
        "7. **T_PickPercentage**: Persentase pick (T_Picked / Total Games).\n",
        "   - Jumlah: 115\n",
        "   - Tipe Data: object\n",
        "\n",
        "8. **BS_Picked**: Total Hero dipilih oleh Tim Biru.\n",
        "   - Jumlah: 115\n",
        "   - Tipe Data: integer (int64)\n",
        "\n",
        "9. **BS_Wins**: Total kemenangan dengan Hero oleh Tim Biru.\n",
        "   - Jumlah: 115\n",
        "   - Tipe Data: integer (int64)\n",
        "\n",
        "10. **BS_Loses**: Total kekalahan dengan Hero oleh Tim Biru.\n",
        "    - Jumlah: 115\n",
        "    - Tipe Data: integer (int64)\n",
        "\n",
        "11. **BS_WinRate**: Persentase kemenangan oleh Tim Biru (BS_Wins / BS_Picked).\n",
        "    - Jumlah: 115\n",
        "    - Tipe Data: object\n",
        "\n",
        "12. **RS_Picked**: Total Hero dipilih oleh Tim Merah.\n",
        "    - Jumlah: 115\n",
        "    - Tipe Data: integer (int64)\n",
        "\n",
        "13. **RS_Wins**: Total kemenangan dengan Hero oleh Tim Merah.\n",
        "    - Jumlah: 115\n",
        "    - Tipe Data: integer (int64)\n",
        "\n",
        "14. **RS_Loses**: Total kekalahan dengan Hero oleh Tim Merah.\n",
        "    - Jumlah: 115\n",
        "    - Tipe Data: integer (int64)\n",
        "\n",
        "15. **RS_WinRate**: Persentase kemenangan oleh Tim Merah (RS_Wins / RS_Picked).\n",
        "    - Jumlah: 115\n",
        "    - Tipe Data: object\n",
        "\n",
        "16. **T_Banned**: Jumlah kali Hero tersebut dibanned.\n",
        "    - Jumlah: 115\n",
        "    - Tipe Data: integer (int64)\n",
        "\n",
        "17. **T_BansPercentage**: Persentase ban (T_Banned / Total Games).\n",
        "    - Jumlah: 115\n",
        "    - Tipe Data: object\n",
        "\n",
        "18. **T_PicksBans**: Jumlah kali Hero tersebut dipilih atau dibanned.\n",
        "    - Jumlah: 115\n",
        "    - Tipe Data: integer (int64)\n",
        "\n",
        "19. **T_PicksBansPercentage**: Persentase pick dan ban (Pick&Ban / Total Games).\n",
        "    - Jumlah: 115\n",
        "    - Tipe Data: object\n",
        "\n",
        "20. **Played By**: Dimainkan oleh siapa.\n",
        "    - Jumlah: 115\n",
        "    - Tipe Data: object\n",
        "\n",
        "21. **Played With**: Dimainkan bersama dengan siapa.\n",
        "    - Jumlah: 115\n",
        "    - Tipe Data: object\n",
        "\n",
        "22. **Played Vs.**: Dimainkan melawan siapa.\n",
        "    - Jumlah: 115\n",
        "    - Tipe Data: object\n",
        "\n",
        "23. **Roles**: Peran dari Hero.\n",
        "    - Jumlah: 115\n",
        "    - Tipe Data: object\n",
        "\n"
      ],
      "metadata": {
        "id": "-6miym5GVbaC"
      }
    },
    {
      "cell_type": "markdown",
      "source": [
        "####Informasi Statistik Deskriptif"
      ],
      "metadata": {
        "id": "D5GD3qzXVrF5"
      }
    },
    {
      "cell_type": "code",
      "source": [
        "df.describe()"
      ],
      "metadata": {
        "id": "rHdqc2OkVuPC",
        "colab": {
          "base_uri": "https://localhost:8080/",
          "height": 367
        },
        "outputId": "7154fe64-292f-420e-dc90-9938d7217cf2"
      },
      "execution_count": 112,
      "outputs": [
        {
          "output_type": "execute_result",
          "data": {
            "text/plain": [
              "         T_Picked      T_Wins     T_Loses   T_WinRate  T_PickPercentage  \\\n",
              "count  110.000000  110.000000  110.000000  110.000000        110.000000   \n",
              "mean   104.963636   52.227273   52.736364   45.014818          7.507909   \n",
              "std    138.974285   70.560230   69.128610   20.679265          9.940792   \n",
              "min      0.000000    0.000000    0.000000    0.000000          0.000000   \n",
              "25%      5.250000    3.000000    4.000000   37.500000          0.377500   \n",
              "50%     39.500000   17.500000   17.500000   47.560000          2.825000   \n",
              "75%    170.750000   86.000000   87.000000   53.840000         12.212500   \n",
              "max    527.000000  265.000000  264.000000  100.000000         37.700000   \n",
              "\n",
              "        BS_Picked     BS_Wins    BS_Loses  BS_WinRate   RS_Picked  ...  \\\n",
              "count  110.000000  110.000000  110.000000  110.000000  110.000000  ...   \n",
              "mean    52.472727   25.872727   26.600000   43.715727   52.490909  ...   \n",
              "std     69.653231   35.171691   34.992319   21.497189   69.931781  ...   \n",
              "min      0.000000    0.000000    0.000000    0.000000    0.000000  ...   \n",
              "25%      3.000000    1.000000    1.250000   37.672500    3.000000  ...   \n",
              "50%     15.000000    7.000000    9.000000   47.730000   21.000000  ...   \n",
              "75%     90.750000   39.750000   41.000000   53.505000   78.000000  ...   \n",
              "max    258.000000  129.000000  133.000000  100.000000  269.000000  ...   \n",
              "\n",
              "       Hero_ Valir  Hero_ Vexana  Hero_ Wanwan  Hero_ X.Borg  Hero_ Xavier  \\\n",
              "count   110.000000    110.000000    110.000000    110.000000    110.000000   \n",
              "mean      0.009091      0.009091      0.009091      0.009091      0.009091   \n",
              "std       0.095346      0.095346      0.095346      0.095346      0.095346   \n",
              "min       0.000000      0.000000      0.000000      0.000000      0.000000   \n",
              "25%       0.000000      0.000000      0.000000      0.000000      0.000000   \n",
              "50%       0.000000      0.000000      0.000000      0.000000      0.000000   \n",
              "75%       0.000000      0.000000      0.000000      0.000000      0.000000   \n",
              "max       1.000000      1.000000      1.000000      1.000000      1.000000   \n",
              "\n",
              "       Hero_ Yi Sun-Shin   Hero_ Yin  Hero_ Yu Zhong   Hero_ Yve  Hero_ Zilong  \n",
              "count         110.000000  110.000000      110.000000  110.000000    110.000000  \n",
              "mean            0.009091    0.009091        0.009091    0.009091      0.009091  \n",
              "std             0.095346    0.095346        0.095346    0.095346      0.095346  \n",
              "min             0.000000    0.000000        0.000000    0.000000      0.000000  \n",
              "25%             0.000000    0.000000        0.000000    0.000000      0.000000  \n",
              "50%             0.000000    0.000000        0.000000    0.000000      0.000000  \n",
              "75%             0.000000    0.000000        0.000000    0.000000      0.000000  \n",
              "max             1.000000    1.000000        1.000000    1.000000      1.000000  \n",
              "\n",
              "[8 rows x 128 columns]"
            ],
            "text/html": [
              "\n",
              "  <div id=\"df-36189715-4154-4af4-933c-469946514c23\" class=\"colab-df-container\">\n",
              "    <div>\n",
              "<style scoped>\n",
              "    .dataframe tbody tr th:only-of-type {\n",
              "        vertical-align: middle;\n",
              "    }\n",
              "\n",
              "    .dataframe tbody tr th {\n",
              "        vertical-align: top;\n",
              "    }\n",
              "\n",
              "    .dataframe thead th {\n",
              "        text-align: right;\n",
              "    }\n",
              "</style>\n",
              "<table border=\"1\" class=\"dataframe\">\n",
              "  <thead>\n",
              "    <tr style=\"text-align: right;\">\n",
              "      <th></th>\n",
              "      <th>T_Picked</th>\n",
              "      <th>T_Wins</th>\n",
              "      <th>T_Loses</th>\n",
              "      <th>T_WinRate</th>\n",
              "      <th>T_PickPercentage</th>\n",
              "      <th>BS_Picked</th>\n",
              "      <th>BS_Wins</th>\n",
              "      <th>BS_Loses</th>\n",
              "      <th>BS_WinRate</th>\n",
              "      <th>RS_Picked</th>\n",
              "      <th>...</th>\n",
              "      <th>Hero_ Valir</th>\n",
              "      <th>Hero_ Vexana</th>\n",
              "      <th>Hero_ Wanwan</th>\n",
              "      <th>Hero_ X.Borg</th>\n",
              "      <th>Hero_ Xavier</th>\n",
              "      <th>Hero_ Yi Sun-Shin</th>\n",
              "      <th>Hero_ Yin</th>\n",
              "      <th>Hero_ Yu Zhong</th>\n",
              "      <th>Hero_ Yve</th>\n",
              "      <th>Hero_ Zilong</th>\n",
              "    </tr>\n",
              "  </thead>\n",
              "  <tbody>\n",
              "    <tr>\n",
              "      <th>count</th>\n",
              "      <td>110.000000</td>\n",
              "      <td>110.000000</td>\n",
              "      <td>110.000000</td>\n",
              "      <td>110.000000</td>\n",
              "      <td>110.000000</td>\n",
              "      <td>110.000000</td>\n",
              "      <td>110.000000</td>\n",
              "      <td>110.000000</td>\n",
              "      <td>110.000000</td>\n",
              "      <td>110.000000</td>\n",
              "      <td>...</td>\n",
              "      <td>110.000000</td>\n",
              "      <td>110.000000</td>\n",
              "      <td>110.000000</td>\n",
              "      <td>110.000000</td>\n",
              "      <td>110.000000</td>\n",
              "      <td>110.000000</td>\n",
              "      <td>110.000000</td>\n",
              "      <td>110.000000</td>\n",
              "      <td>110.000000</td>\n",
              "      <td>110.000000</td>\n",
              "    </tr>\n",
              "    <tr>\n",
              "      <th>mean</th>\n",
              "      <td>104.963636</td>\n",
              "      <td>52.227273</td>\n",
              "      <td>52.736364</td>\n",
              "      <td>45.014818</td>\n",
              "      <td>7.507909</td>\n",
              "      <td>52.472727</td>\n",
              "      <td>25.872727</td>\n",
              "      <td>26.600000</td>\n",
              "      <td>43.715727</td>\n",
              "      <td>52.490909</td>\n",
              "      <td>...</td>\n",
              "      <td>0.009091</td>\n",
              "      <td>0.009091</td>\n",
              "      <td>0.009091</td>\n",
              "      <td>0.009091</td>\n",
              "      <td>0.009091</td>\n",
              "      <td>0.009091</td>\n",
              "      <td>0.009091</td>\n",
              "      <td>0.009091</td>\n",
              "      <td>0.009091</td>\n",
              "      <td>0.009091</td>\n",
              "    </tr>\n",
              "    <tr>\n",
              "      <th>std</th>\n",
              "      <td>138.974285</td>\n",
              "      <td>70.560230</td>\n",
              "      <td>69.128610</td>\n",
              "      <td>20.679265</td>\n",
              "      <td>9.940792</td>\n",
              "      <td>69.653231</td>\n",
              "      <td>35.171691</td>\n",
              "      <td>34.992319</td>\n",
              "      <td>21.497189</td>\n",
              "      <td>69.931781</td>\n",
              "      <td>...</td>\n",
              "      <td>0.095346</td>\n",
              "      <td>0.095346</td>\n",
              "      <td>0.095346</td>\n",
              "      <td>0.095346</td>\n",
              "      <td>0.095346</td>\n",
              "      <td>0.095346</td>\n",
              "      <td>0.095346</td>\n",
              "      <td>0.095346</td>\n",
              "      <td>0.095346</td>\n",
              "      <td>0.095346</td>\n",
              "    </tr>\n",
              "    <tr>\n",
              "      <th>min</th>\n",
              "      <td>0.000000</td>\n",
              "      <td>0.000000</td>\n",
              "      <td>0.000000</td>\n",
              "      <td>0.000000</td>\n",
              "      <td>0.000000</td>\n",
              "      <td>0.000000</td>\n",
              "      <td>0.000000</td>\n",
              "      <td>0.000000</td>\n",
              "      <td>0.000000</td>\n",
              "      <td>0.000000</td>\n",
              "      <td>...</td>\n",
              "      <td>0.000000</td>\n",
              "      <td>0.000000</td>\n",
              "      <td>0.000000</td>\n",
              "      <td>0.000000</td>\n",
              "      <td>0.000000</td>\n",
              "      <td>0.000000</td>\n",
              "      <td>0.000000</td>\n",
              "      <td>0.000000</td>\n",
              "      <td>0.000000</td>\n",
              "      <td>0.000000</td>\n",
              "    </tr>\n",
              "    <tr>\n",
              "      <th>25%</th>\n",
              "      <td>5.250000</td>\n",
              "      <td>3.000000</td>\n",
              "      <td>4.000000</td>\n",
              "      <td>37.500000</td>\n",
              "      <td>0.377500</td>\n",
              "      <td>3.000000</td>\n",
              "      <td>1.000000</td>\n",
              "      <td>1.250000</td>\n",
              "      <td>37.672500</td>\n",
              "      <td>3.000000</td>\n",
              "      <td>...</td>\n",
              "      <td>0.000000</td>\n",
              "      <td>0.000000</td>\n",
              "      <td>0.000000</td>\n",
              "      <td>0.000000</td>\n",
              "      <td>0.000000</td>\n",
              "      <td>0.000000</td>\n",
              "      <td>0.000000</td>\n",
              "      <td>0.000000</td>\n",
              "      <td>0.000000</td>\n",
              "      <td>0.000000</td>\n",
              "    </tr>\n",
              "    <tr>\n",
              "      <th>50%</th>\n",
              "      <td>39.500000</td>\n",
              "      <td>17.500000</td>\n",
              "      <td>17.500000</td>\n",
              "      <td>47.560000</td>\n",
              "      <td>2.825000</td>\n",
              "      <td>15.000000</td>\n",
              "      <td>7.000000</td>\n",
              "      <td>9.000000</td>\n",
              "      <td>47.730000</td>\n",
              "      <td>21.000000</td>\n",
              "      <td>...</td>\n",
              "      <td>0.000000</td>\n",
              "      <td>0.000000</td>\n",
              "      <td>0.000000</td>\n",
              "      <td>0.000000</td>\n",
              "      <td>0.000000</td>\n",
              "      <td>0.000000</td>\n",
              "      <td>0.000000</td>\n",
              "      <td>0.000000</td>\n",
              "      <td>0.000000</td>\n",
              "      <td>0.000000</td>\n",
              "    </tr>\n",
              "    <tr>\n",
              "      <th>75%</th>\n",
              "      <td>170.750000</td>\n",
              "      <td>86.000000</td>\n",
              "      <td>87.000000</td>\n",
              "      <td>53.840000</td>\n",
              "      <td>12.212500</td>\n",
              "      <td>90.750000</td>\n",
              "      <td>39.750000</td>\n",
              "      <td>41.000000</td>\n",
              "      <td>53.505000</td>\n",
              "      <td>78.000000</td>\n",
              "      <td>...</td>\n",
              "      <td>0.000000</td>\n",
              "      <td>0.000000</td>\n",
              "      <td>0.000000</td>\n",
              "      <td>0.000000</td>\n",
              "      <td>0.000000</td>\n",
              "      <td>0.000000</td>\n",
              "      <td>0.000000</td>\n",
              "      <td>0.000000</td>\n",
              "      <td>0.000000</td>\n",
              "      <td>0.000000</td>\n",
              "    </tr>\n",
              "    <tr>\n",
              "      <th>max</th>\n",
              "      <td>527.000000</td>\n",
              "      <td>265.000000</td>\n",
              "      <td>264.000000</td>\n",
              "      <td>100.000000</td>\n",
              "      <td>37.700000</td>\n",
              "      <td>258.000000</td>\n",
              "      <td>129.000000</td>\n",
              "      <td>133.000000</td>\n",
              "      <td>100.000000</td>\n",
              "      <td>269.000000</td>\n",
              "      <td>...</td>\n",
              "      <td>1.000000</td>\n",
              "      <td>1.000000</td>\n",
              "      <td>1.000000</td>\n",
              "      <td>1.000000</td>\n",
              "      <td>1.000000</td>\n",
              "      <td>1.000000</td>\n",
              "      <td>1.000000</td>\n",
              "      <td>1.000000</td>\n",
              "      <td>1.000000</td>\n",
              "      <td>1.000000</td>\n",
              "    </tr>\n",
              "  </tbody>\n",
              "</table>\n",
              "<p>8 rows × 128 columns</p>\n",
              "</div>\n",
              "    <div class=\"colab-df-buttons\">\n",
              "\n",
              "  <div class=\"colab-df-container\">\n",
              "    <button class=\"colab-df-convert\" onclick=\"convertToInteractive('df-36189715-4154-4af4-933c-469946514c23')\"\n",
              "            title=\"Convert this dataframe to an interactive table.\"\n",
              "            style=\"display:none;\">\n",
              "\n",
              "  <svg xmlns=\"http://www.w3.org/2000/svg\" height=\"24px\" viewBox=\"0 -960 960 960\">\n",
              "    <path d=\"M120-120v-720h720v720H120Zm60-500h600v-160H180v160Zm220 220h160v-160H400v160Zm0 220h160v-160H400v160ZM180-400h160v-160H180v160Zm440 0h160v-160H620v160ZM180-180h160v-160H180v160Zm440 0h160v-160H620v160Z\"/>\n",
              "  </svg>\n",
              "    </button>\n",
              "\n",
              "  <style>\n",
              "    .colab-df-container {\n",
              "      display:flex;\n",
              "      gap: 12px;\n",
              "    }\n",
              "\n",
              "    .colab-df-convert {\n",
              "      background-color: #E8F0FE;\n",
              "      border: none;\n",
              "      border-radius: 50%;\n",
              "      cursor: pointer;\n",
              "      display: none;\n",
              "      fill: #1967D2;\n",
              "      height: 32px;\n",
              "      padding: 0 0 0 0;\n",
              "      width: 32px;\n",
              "    }\n",
              "\n",
              "    .colab-df-convert:hover {\n",
              "      background-color: #E2EBFA;\n",
              "      box-shadow: 0px 1px 2px rgba(60, 64, 67, 0.3), 0px 1px 3px 1px rgba(60, 64, 67, 0.15);\n",
              "      fill: #174EA6;\n",
              "    }\n",
              "\n",
              "    .colab-df-buttons div {\n",
              "      margin-bottom: 4px;\n",
              "    }\n",
              "\n",
              "    [theme=dark] .colab-df-convert {\n",
              "      background-color: #3B4455;\n",
              "      fill: #D2E3FC;\n",
              "    }\n",
              "\n",
              "    [theme=dark] .colab-df-convert:hover {\n",
              "      background-color: #434B5C;\n",
              "      box-shadow: 0px 1px 3px 1px rgba(0, 0, 0, 0.15);\n",
              "      filter: drop-shadow(0px 1px 2px rgba(0, 0, 0, 0.3));\n",
              "      fill: #FFFFFF;\n",
              "    }\n",
              "  </style>\n",
              "\n",
              "    <script>\n",
              "      const buttonEl =\n",
              "        document.querySelector('#df-36189715-4154-4af4-933c-469946514c23 button.colab-df-convert');\n",
              "      buttonEl.style.display =\n",
              "        google.colab.kernel.accessAllowed ? 'block' : 'none';\n",
              "\n",
              "      async function convertToInteractive(key) {\n",
              "        const element = document.querySelector('#df-36189715-4154-4af4-933c-469946514c23');\n",
              "        const dataTable =\n",
              "          await google.colab.kernel.invokeFunction('convertToInteractive',\n",
              "                                                    [key], {});\n",
              "        if (!dataTable) return;\n",
              "\n",
              "        const docLinkHtml = 'Like what you see? Visit the ' +\n",
              "          '<a target=\"_blank\" href=https://colab.research.google.com/notebooks/data_table.ipynb>data table notebook</a>'\n",
              "          + ' to learn more about interactive tables.';\n",
              "        element.innerHTML = '';\n",
              "        dataTable['output_type'] = 'display_data';\n",
              "        await google.colab.output.renderOutput(dataTable, element);\n",
              "        const docLink = document.createElement('div');\n",
              "        docLink.innerHTML = docLinkHtml;\n",
              "        element.appendChild(docLink);\n",
              "      }\n",
              "    </script>\n",
              "  </div>\n",
              "\n",
              "\n",
              "<div id=\"df-798301c8-2f8a-46b4-921a-9c8a57b94dc9\">\n",
              "  <button class=\"colab-df-quickchart\" onclick=\"quickchart('df-798301c8-2f8a-46b4-921a-9c8a57b94dc9')\"\n",
              "            title=\"Suggest charts\"\n",
              "            style=\"display:none;\">\n",
              "\n",
              "<svg xmlns=\"http://www.w3.org/2000/svg\" height=\"24px\"viewBox=\"0 0 24 24\"\n",
              "     width=\"24px\">\n",
              "    <g>\n",
              "        <path d=\"M19 3H5c-1.1 0-2 .9-2 2v14c0 1.1.9 2 2 2h14c1.1 0 2-.9 2-2V5c0-1.1-.9-2-2-2zM9 17H7v-7h2v7zm4 0h-2V7h2v10zm4 0h-2v-4h2v4z\"/>\n",
              "    </g>\n",
              "</svg>\n",
              "  </button>\n",
              "\n",
              "<style>\n",
              "  .colab-df-quickchart {\n",
              "      --bg-color: #E8F0FE;\n",
              "      --fill-color: #1967D2;\n",
              "      --hover-bg-color: #E2EBFA;\n",
              "      --hover-fill-color: #174EA6;\n",
              "      --disabled-fill-color: #AAA;\n",
              "      --disabled-bg-color: #DDD;\n",
              "  }\n",
              "\n",
              "  [theme=dark] .colab-df-quickchart {\n",
              "      --bg-color: #3B4455;\n",
              "      --fill-color: #D2E3FC;\n",
              "      --hover-bg-color: #434B5C;\n",
              "      --hover-fill-color: #FFFFFF;\n",
              "      --disabled-bg-color: #3B4455;\n",
              "      --disabled-fill-color: #666;\n",
              "  }\n",
              "\n",
              "  .colab-df-quickchart {\n",
              "    background-color: var(--bg-color);\n",
              "    border: none;\n",
              "    border-radius: 50%;\n",
              "    cursor: pointer;\n",
              "    display: none;\n",
              "    fill: var(--fill-color);\n",
              "    height: 32px;\n",
              "    padding: 0;\n",
              "    width: 32px;\n",
              "  }\n",
              "\n",
              "  .colab-df-quickchart:hover {\n",
              "    background-color: var(--hover-bg-color);\n",
              "    box-shadow: 0 1px 2px rgba(60, 64, 67, 0.3), 0 1px 3px 1px rgba(60, 64, 67, 0.15);\n",
              "    fill: var(--button-hover-fill-color);\n",
              "  }\n",
              "\n",
              "  .colab-df-quickchart-complete:disabled,\n",
              "  .colab-df-quickchart-complete:disabled:hover {\n",
              "    background-color: var(--disabled-bg-color);\n",
              "    fill: var(--disabled-fill-color);\n",
              "    box-shadow: none;\n",
              "  }\n",
              "\n",
              "  .colab-df-spinner {\n",
              "    border: 2px solid var(--fill-color);\n",
              "    border-color: transparent;\n",
              "    border-bottom-color: var(--fill-color);\n",
              "    animation:\n",
              "      spin 1s steps(1) infinite;\n",
              "  }\n",
              "\n",
              "  @keyframes spin {\n",
              "    0% {\n",
              "      border-color: transparent;\n",
              "      border-bottom-color: var(--fill-color);\n",
              "      border-left-color: var(--fill-color);\n",
              "    }\n",
              "    20% {\n",
              "      border-color: transparent;\n",
              "      border-left-color: var(--fill-color);\n",
              "      border-top-color: var(--fill-color);\n",
              "    }\n",
              "    30% {\n",
              "      border-color: transparent;\n",
              "      border-left-color: var(--fill-color);\n",
              "      border-top-color: var(--fill-color);\n",
              "      border-right-color: var(--fill-color);\n",
              "    }\n",
              "    40% {\n",
              "      border-color: transparent;\n",
              "      border-right-color: var(--fill-color);\n",
              "      border-top-color: var(--fill-color);\n",
              "    }\n",
              "    60% {\n",
              "      border-color: transparent;\n",
              "      border-right-color: var(--fill-color);\n",
              "    }\n",
              "    80% {\n",
              "      border-color: transparent;\n",
              "      border-right-color: var(--fill-color);\n",
              "      border-bottom-color: var(--fill-color);\n",
              "    }\n",
              "    90% {\n",
              "      border-color: transparent;\n",
              "      border-bottom-color: var(--fill-color);\n",
              "    }\n",
              "  }\n",
              "</style>\n",
              "\n",
              "  <script>\n",
              "    async function quickchart(key) {\n",
              "      const quickchartButtonEl =\n",
              "        document.querySelector('#' + key + ' button');\n",
              "      quickchartButtonEl.disabled = true;  // To prevent multiple clicks.\n",
              "      quickchartButtonEl.classList.add('colab-df-spinner');\n",
              "      try {\n",
              "        const charts = await google.colab.kernel.invokeFunction(\n",
              "            'suggestCharts', [key], {});\n",
              "      } catch (error) {\n",
              "        console.error('Error during call to suggestCharts:', error);\n",
              "      }\n",
              "      quickchartButtonEl.classList.remove('colab-df-spinner');\n",
              "      quickchartButtonEl.classList.add('colab-df-quickchart-complete');\n",
              "    }\n",
              "    (() => {\n",
              "      let quickchartButtonEl =\n",
              "        document.querySelector('#df-798301c8-2f8a-46b4-921a-9c8a57b94dc9 button');\n",
              "      quickchartButtonEl.style.display =\n",
              "        google.colab.kernel.accessAllowed ? 'block' : 'none';\n",
              "    })();\n",
              "  </script>\n",
              "</div>\n",
              "    </div>\n",
              "  </div>\n"
            ],
            "application/vnd.google.colaboratory.intrinsic+json": {
              "type": "dataframe"
            }
          },
          "metadata": {},
          "execution_count": 112
        }
      ]
    },
    {
      "cell_type": "markdown",
      "source": [
        "\n",
        "\n",
        "1. **Index**:\n",
        "   - Jumlah: 115\n",
        "   - Rata-rata: 58.00\n",
        "   - Standar deviasi: 33.34\n",
        "   - Nilai minimum: 1.00\n",
        "   - Kuartil bawah (25%): 29.50\n",
        "   - Median (50%): 58.00\n",
        "   - Kuartil atas (75%): 86.50\n",
        "   - Nilai maksimum: 115.00\n",
        "   - Tipe Data: integer (int64)\n",
        "\n",
        "2. **T_Picked**: Total Hero dipilih.\n",
        "   - Jumlah: 115\n",
        "   - Rata-rata: 121.52\n",
        "   - Standar deviasi: 165.79\n",
        "   - Nilai minimum: 0.00\n",
        "   - Kuartil bawah (25%): 6.00\n",
        "   - Median (50%): 43.00\n",
        "   - Kuartil atas (75%): 193.00\n",
        "   - Nilai maksimum: 727.00\n",
        "   - Tipe Data: integer (int64)\n",
        "\n",
        "3. **T_Wins**: Total kemenangan dengan Hero tersebut.\n",
        "   - Jumlah: 115\n",
        "   - Rata-rata: 60.74\n",
        "   - Standar deviasi: 84.58\n",
        "   - Nilai minimum: 0.00\n",
        "   - Kuartil bawah (25%): 3.00\n",
        "   - Median (50%): 25.00\n",
        "   - Kuartil atas (75%): 89.00\n",
        "   - Nilai maksimum: 383.00\n",
        "   - Tipe Data: integer (int64)\n",
        "\n",
        "4. **T_Loses**: Total kekalahan dengan Hero tersebut.\n",
        "   - Jumlah: 115\n",
        "   - Rata-rata: 60.78\n",
        "   - Standar deviasi: 82.06\n",
        "   - Nilai minimum: 0.00\n",
        "   - Kuartil bawah (25%): 4.00\n",
        "   - Median (50%): 22.00\n",
        "   - Kuartil atas (75%): 101.00\n",
        "   - Nilai maksimum: 393.00\n",
        "   - Tipe Data: integer (int64)\n",
        "\n",
        "5. **BS_Picked**: Total Hero dipilih oleh Tim Biru.\n",
        "   - Jumlah: 115\n",
        "   - Rata-rata: 60.74\n",
        "   - Standar deviasi: 82.20\n",
        "   - Nilai minimum: 0.00\n",
        "   - Kuartil bawah (25%): 3.00\n",
        "   - Median (50%): 20.00\n",
        "   - Kuartil atas (75%): 101.50\n",
        "   - Nilai maksimum: 361.00\n",
        "   - Tipe Data: integer (int64)\n",
        "\n",
        "6. **BS_Wins**: Total kemenangan dengan Hero oleh Tim Biru.\n",
        "   - Jumlah: 115\n",
        "   - Rata-rata: 30.04\n",
        "   - Standar deviasi: 41.65\n",
        "   - Nilai minimum: 0.00\n",
        "   - Kuartil bawah (25%): 1.00\n",
        "   - Median (50%): 11.00\n",
        "   - Kuartil atas (75%): 48.00\n",
        "   - Nilai maksimum: 184.00\n",
        "   - Tipe Data: integer (int64)\n",
        "\n",
        "7. **BS_Loses**: Total kekalahan dengan Hero oleh Tim Biru.\n",
        "   - Jumlah: 115\n",
        "   - Rata-rata: 30.70\n",
        "   - Standar deviasi: 41.15\n",
        "   - Nilai minimum: 0.00\n",
        "   - Kuartil bawah (25%): 2.00\n",
        "   - Median (50%): 12.00\n",
        "   - Kuartil atas (75%): 51.50\n",
        "   - Nilai maksimum: 191.00\n",
        "   - Tipe Data: integer (int64)\n",
        "\n",
        "8. **RS_Picked**: Total Hero dipilih oleh Tim Merah.\n",
        "   - Jumlah: 115\n",
        "   - Rata-rata: 60.78\n",
        "   - Standar deviasi: 84.21\n",
        "   - Nilai minimum: 0.00\n",
        "   - Kuartil bawah (25%): 3.00\n",
        "   - Median (50%): 23.00\n",
        "   - Kuartil atas (75%): 95.00\n",
        "   - Nilai maksimum: 379.00\n",
        "   - Tipe Data: integer (int64)\n",
        "\n",
        "9. **RS_Wins**: Total kemenangan dengan Hero oleh Tim Merah.\n",
        "   - Jumlah: 115\n",
        "   - Rata-rata: 30.70\n",
        "   - Standar deviasi: 43.39\n",
        "   - Nilai minimum: 0.00\n",
        "   - Kuartil bawah (25%): 1.00\n",
        "   - Median (50%): 12.00\n",
        "   - Kuartil atas (75%): 44.50\n",
        "   - Nilai maksimum: 199.00\n",
        "   - Tipe Data: integer (int64)\n",
        "\n",
        "10. **RS_Loses**: Total kekalahan dengan Hero oleh Tim Merah.\n",
        "    - Jumlah: 115\n",
        "    - Rata-rata: 30.09\n",
        "    - Standar deviasi: 41.38\n",
        "    - Nilai minimum: 0.00\n",
        "    - Kuartil bawah (25%): 2.00\n",
        "    - Median (50%): 12.00\n",
        "    - Kuartil atas (75%): 46.00\n",
        "    - Nilai maksimum: 202.00\n",
        "    - Tipe Data: integer (int64)\n",
        "\n",
        "11. **T_Banned**: Jumlah kali Hero tersebut dibanned.\n",
        "    - Jumlah: 115\n",
        "    - Rata-rata: 121.51\n",
        "    - Standar deviasi: 180.27\n",
        "    - Nilai minimum: 0.00\n",
        "    - Kuartil bawah (25%): 2.50\n",
        "    - Median (50%): 24.00\n",
        "    - Kuartil atas (75%): 174.50\n",
        "    - Nilai maksimum: 741.00\n",
        "    - Tipe Data: integer (int64)\n",
        "\n",
        "12. **T_PicksBans**: Jumlah kali Hero tersebut dipilih atau dibanned.\n",
        "    - Jumlah: 115\n",
        "    - Rata-rata: 243.03\n",
        "    - Standar deviasi: 322.98\n",
        "    - Nilai minimum: 1.00\n",
        "    - Kuartil bawah (25%): 10.50\n",
        "    - Median (50%): 83.00\n",
        "    - Kuartil atas (75%): 373.00\n",
        "    - Nilai maksimum: 1211.00\n",
        "    - Tipe Data: integer (int64)\n",
        "\n"
      ],
      "metadata": {
        "id": "q_OSzaKKV28E"
      }
    },
    {
      "cell_type": "markdown",
      "source": [
        "**Merubah Kolom Kolom Tipe data Objek Menjadi Numerik Agar Bisa Lebih Mudah Di Visualisasikan**"
      ],
      "metadata": {
        "id": "ikAkFYerZBu0"
      }
    },
    {
      "cell_type": "markdown",
      "source": [
        "##**Exploratory Data Analysis**"
      ],
      "metadata": {
        "id": "YVd8wfBkV9OE"
      }
    },
    {
      "cell_type": "code",
      "source": [
        "df_wr = df.sort_values('T_WinRate')\n",
        "\n",
        "fig = px.bar(\n",
        "    df_wr,\n",
        "    x='Hero',\n",
        "    y='T_WinRate',\n",
        "    color='T_WinRate',\n",
        "    labels={\"T_WinRate\":\"Win Rate\"},\n",
        "    title='Distribusi Tingkat Win Rate Hero'\n",
        ")\n",
        "fig.show()"
      ],
      "metadata": {
        "id": "_ohZShs2Wv9r",
        "colab": {
          "base_uri": "https://localhost:8080/",
          "height": 616
        },
        "outputId": "a2375175-a416-4541-dc96-fcb3f4541322"
      },
      "execution_count": 114,
      "outputs": [
        {
          "output_type": "error",
          "ename": "ValueError",
          "evalue": "Value of 'x' is not the name of a column in 'data_frame'. Expected one of ['T_Picked', 'T_Wins', 'T_Loses', 'T_WinRate', 'T_PickPercentage', 'BS_Picked', 'BS_Wins', 'BS_Loses', 'BS_WinRate', 'RS_Picked', 'RS_Wins', 'RS_Loses', 'RS_WinRate', 'T_Banned', 'T_BansPercentage', 'T_PicksBans', 'T_PicksBansPercentage', 'Roles', 'Hero_\\xa0Aamon', 'Hero_\\xa0Akai', 'Hero_\\xa0Aldous', 'Hero_\\xa0Alice', 'Hero_\\xa0Alpha', 'Hero_\\xa0Alucard', 'Hero_\\xa0Arlott', 'Hero_\\xa0Atlas', 'Hero_\\xa0Aulus', 'Hero_\\xa0Badang', 'Hero_\\xa0Balmond', 'Hero_\\xa0Bane', 'Hero_\\xa0Barats', 'Hero_\\xa0Baxia', 'Hero_\\xa0Beatrix', 'Hero_\\xa0Belerick', 'Hero_\\xa0Benedetta', 'Hero_\\xa0Brody', 'Hero_\\xa0Bruno', 'Hero_\\xa0Carmilla', 'Hero_\\xa0Cecilion', \"Hero_\\xa0Chang'e\", 'Hero_\\xa0Chou', 'Hero_\\xa0Claude', 'Hero_\\xa0Clint', 'Hero_\\xa0Cyclops', 'Hero_\\xa0Diggie', 'Hero_\\xa0Dyrroth', 'Hero_\\xa0Edith', 'Hero_\\xa0Esmeralda', 'Hero_\\xa0Estes', 'Hero_\\xa0Faramis', 'Hero_\\xa0Floryn', 'Hero_\\xa0Franco', 'Hero_\\xa0Freya', 'Hero_\\xa0Gloo', 'Hero_\\xa0Gord', 'Hero_\\xa0Granger', 'Hero_\\xa0Grock', 'Hero_\\xa0Guinevere', 'Hero_\\xa0Gusion', 'Hero_\\xa0Hanabi', 'Hero_\\xa0Hanzo', 'Hero_\\xa0Harith', 'Hero_\\xa0Harley', 'Hero_\\xa0Hayabusa', 'Hero_\\xa0Helcurt', 'Hero_\\xa0Hilda', 'Hero_\\xa0Hylos', 'Hero_\\xa0Irithel', 'Hero_\\xa0Ixia', 'Hero_\\xa0Jawhead', 'Hero_\\xa0Joy', 'Hero_\\xa0Julian', 'Hero_\\xa0Kadita', 'Hero_\\xa0Kagura', 'Hero_\\xa0Kaja', 'Hero_\\xa0Karina', 'Hero_\\xa0Karrie', 'Hero_\\xa0Khaleed', 'Hero_\\xa0Khufra', 'Hero_\\xa0Kimmy', 'Hero_\\xa0Lancelot', 'Hero_\\xa0Lapu-Lapu', 'Hero_\\xa0Layla', 'Hero_\\xa0Leomord', 'Hero_\\xa0Lesley', 'Hero_\\xa0Ling', 'Hero_\\xa0Lolita', 'Hero_\\xa0Lunox', 'Hero_\\xa0Luo Yi', 'Hero_\\xa0Lylia', 'Hero_\\xa0Martis', 'Hero_\\xa0Masha', 'Hero_\\xa0Mathilda', 'Hero_\\xa0Melissa', 'Hero_\\xa0Minotaur', 'Hero_\\xa0Minsitthar', 'Hero_\\xa0Miya', 'Hero_\\xa0Moskov', 'Hero_\\xa0Nana', 'Hero_\\xa0Natalia', 'Hero_\\xa0Natan', 'Hero_\\xa0Nolan', 'Hero_\\xa0Novaria', 'Hero_\\xa0Paquito', 'Hero_\\xa0Pharsa', 'Hero_\\xa0Phoveus', 'Hero_\\xa0Popol and Kupa', 'Hero_\\xa0Rafaela', 'Hero_\\xa0Roger', 'Hero_\\xa0Ruby', 'Hero_\\xa0Saber', 'Hero_\\xa0Selena', 'Hero_\\xa0Silvanna', 'Hero_\\xa0Sun', 'Hero_\\xa0Thamuz', 'Hero_\\xa0Tigreal', 'Hero_\\xa0Uranus', 'Hero_\\xa0Vale', 'Hero_\\xa0Valir', 'Hero_\\xa0Vexana', 'Hero_\\xa0Wanwan', 'Hero_\\xa0X.Borg', 'Hero_\\xa0Xavier', 'Hero_\\xa0Yi Sun-Shin', 'Hero_\\xa0Yin', 'Hero_\\xa0Yu Zhong', 'Hero_\\xa0Yve', 'Hero_\\xa0Zilong'] but received: Hero",
          "traceback": [
            "\u001b[0;31m---------------------------------------------------------------------------\u001b[0m",
            "\u001b[0;31mValueError\u001b[0m                                Traceback (most recent call last)",
            "\u001b[0;32m<ipython-input-114-56d099131403>\u001b[0m in \u001b[0;36m<cell line: 3>\u001b[0;34m()\u001b[0m\n\u001b[1;32m      1\u001b[0m \u001b[0mdf_wr\u001b[0m \u001b[0;34m=\u001b[0m \u001b[0mdf\u001b[0m\u001b[0;34m.\u001b[0m\u001b[0msort_values\u001b[0m\u001b[0;34m(\u001b[0m\u001b[0;34m'T_WinRate'\u001b[0m\u001b[0;34m)\u001b[0m\u001b[0;34m\u001b[0m\u001b[0;34m\u001b[0m\u001b[0m\n\u001b[1;32m      2\u001b[0m \u001b[0;34m\u001b[0m\u001b[0m\n\u001b[0;32m----> 3\u001b[0;31m fig = px.bar(\n\u001b[0m\u001b[1;32m      4\u001b[0m     \u001b[0mdf_wr\u001b[0m\u001b[0;34m,\u001b[0m\u001b[0;34m\u001b[0m\u001b[0;34m\u001b[0m\u001b[0m\n\u001b[1;32m      5\u001b[0m     \u001b[0mx\u001b[0m\u001b[0;34m=\u001b[0m\u001b[0;34m'Hero'\u001b[0m\u001b[0;34m,\u001b[0m\u001b[0;34m\u001b[0m\u001b[0;34m\u001b[0m\u001b[0m\n",
            "\u001b[0;32m/usr/local/lib/python3.10/dist-packages/plotly/express/_chart_types.py\u001b[0m in \u001b[0;36mbar\u001b[0;34m(data_frame, x, y, color, pattern_shape, facet_row, facet_col, facet_col_wrap, facet_row_spacing, facet_col_spacing, hover_name, hover_data, custom_data, text, base, error_x, error_x_minus, error_y, error_y_minus, animation_frame, animation_group, category_orders, labels, color_discrete_sequence, color_discrete_map, color_continuous_scale, pattern_shape_sequence, pattern_shape_map, range_color, color_continuous_midpoint, opacity, orientation, barmode, log_x, log_y, range_x, range_y, text_auto, title, template, width, height)\u001b[0m\n\u001b[1;32m    371\u001b[0m     \u001b[0mmark\u001b[0m\u001b[0;34m.\u001b[0m\u001b[0;34m\u001b[0m\u001b[0;34m\u001b[0m\u001b[0m\n\u001b[1;32m    372\u001b[0m     \"\"\"\n\u001b[0;32m--> 373\u001b[0;31m     return make_figure(\n\u001b[0m\u001b[1;32m    374\u001b[0m         \u001b[0margs\u001b[0m\u001b[0;34m=\u001b[0m\u001b[0mlocals\u001b[0m\u001b[0;34m(\u001b[0m\u001b[0;34m)\u001b[0m\u001b[0;34m,\u001b[0m\u001b[0;34m\u001b[0m\u001b[0;34m\u001b[0m\u001b[0m\n\u001b[1;32m    375\u001b[0m         \u001b[0mconstructor\u001b[0m\u001b[0;34m=\u001b[0m\u001b[0mgo\u001b[0m\u001b[0;34m.\u001b[0m\u001b[0mBar\u001b[0m\u001b[0;34m,\u001b[0m\u001b[0;34m\u001b[0m\u001b[0;34m\u001b[0m\u001b[0m\n",
            "\u001b[0;32m/usr/local/lib/python3.10/dist-packages/plotly/express/_core.py\u001b[0m in \u001b[0;36mmake_figure\u001b[0;34m(args, constructor, trace_patch, layout_patch)\u001b[0m\n\u001b[1;32m   2001\u001b[0m     \u001b[0mapply_default_cascade\u001b[0m\u001b[0;34m(\u001b[0m\u001b[0margs\u001b[0m\u001b[0;34m)\u001b[0m\u001b[0;34m\u001b[0m\u001b[0;34m\u001b[0m\u001b[0m\n\u001b[1;32m   2002\u001b[0m \u001b[0;34m\u001b[0m\u001b[0m\n\u001b[0;32m-> 2003\u001b[0;31m     \u001b[0margs\u001b[0m \u001b[0;34m=\u001b[0m \u001b[0mbuild_dataframe\u001b[0m\u001b[0;34m(\u001b[0m\u001b[0margs\u001b[0m\u001b[0;34m,\u001b[0m \u001b[0mconstructor\u001b[0m\u001b[0;34m)\u001b[0m\u001b[0;34m\u001b[0m\u001b[0;34m\u001b[0m\u001b[0m\n\u001b[0m\u001b[1;32m   2004\u001b[0m     \u001b[0;32mif\u001b[0m \u001b[0mconstructor\u001b[0m \u001b[0;32min\u001b[0m \u001b[0;34m[\u001b[0m\u001b[0mgo\u001b[0m\u001b[0;34m.\u001b[0m\u001b[0mTreemap\u001b[0m\u001b[0;34m,\u001b[0m \u001b[0mgo\u001b[0m\u001b[0;34m.\u001b[0m\u001b[0mSunburst\u001b[0m\u001b[0;34m,\u001b[0m \u001b[0mgo\u001b[0m\u001b[0;34m.\u001b[0m\u001b[0mIcicle\u001b[0m\u001b[0;34m]\u001b[0m \u001b[0;32mand\u001b[0m \u001b[0margs\u001b[0m\u001b[0;34m[\u001b[0m\u001b[0;34m\"path\"\u001b[0m\u001b[0;34m]\u001b[0m \u001b[0;32mis\u001b[0m \u001b[0;32mnot\u001b[0m \u001b[0;32mNone\u001b[0m\u001b[0;34m:\u001b[0m\u001b[0;34m\u001b[0m\u001b[0;34m\u001b[0m\u001b[0m\n\u001b[1;32m   2005\u001b[0m         \u001b[0margs\u001b[0m \u001b[0;34m=\u001b[0m \u001b[0mprocess_dataframe_hierarchy\u001b[0m\u001b[0;34m(\u001b[0m\u001b[0margs\u001b[0m\u001b[0;34m)\u001b[0m\u001b[0;34m\u001b[0m\u001b[0;34m\u001b[0m\u001b[0m\n",
            "\u001b[0;32m/usr/local/lib/python3.10/dist-packages/plotly/express/_core.py\u001b[0m in \u001b[0;36mbuild_dataframe\u001b[0;34m(args, constructor)\u001b[0m\n\u001b[1;32m   1410\u001b[0m     \u001b[0;31m# now that things have been prepped, we do the systematic rewriting of `args`\u001b[0m\u001b[0;34m\u001b[0m\u001b[0;34m\u001b[0m\u001b[0m\n\u001b[1;32m   1411\u001b[0m \u001b[0;34m\u001b[0m\u001b[0m\n\u001b[0;32m-> 1412\u001b[0;31m     df_output, wide_id_vars = process_args_into_dataframe(\n\u001b[0m\u001b[1;32m   1413\u001b[0m         \u001b[0margs\u001b[0m\u001b[0;34m,\u001b[0m \u001b[0mwide_mode\u001b[0m\u001b[0;34m,\u001b[0m \u001b[0mvar_name\u001b[0m\u001b[0;34m,\u001b[0m \u001b[0mvalue_name\u001b[0m\u001b[0;34m\u001b[0m\u001b[0;34m\u001b[0m\u001b[0m\n\u001b[1;32m   1414\u001b[0m     )\n",
            "\u001b[0;32m/usr/local/lib/python3.10/dist-packages/plotly/express/_core.py\u001b[0m in \u001b[0;36mprocess_args_into_dataframe\u001b[0;34m(args, wide_mode, var_name, value_name)\u001b[0m\n\u001b[1;32m   1206\u001b[0m                         \u001b[0;32mif\u001b[0m \u001b[0margument\u001b[0m \u001b[0;34m==\u001b[0m \u001b[0;34m\"index\"\u001b[0m\u001b[0;34m:\u001b[0m\u001b[0;34m\u001b[0m\u001b[0;34m\u001b[0m\u001b[0m\n\u001b[1;32m   1207\u001b[0m                             \u001b[0merr_msg\u001b[0m \u001b[0;34m+=\u001b[0m \u001b[0;34m\"\\n To use the index, pass it in directly as `df.index`.\"\u001b[0m\u001b[0;34m\u001b[0m\u001b[0;34m\u001b[0m\u001b[0m\n\u001b[0;32m-> 1208\u001b[0;31m                         \u001b[0;32mraise\u001b[0m \u001b[0mValueError\u001b[0m\u001b[0;34m(\u001b[0m\u001b[0merr_msg\u001b[0m\u001b[0;34m)\u001b[0m\u001b[0;34m\u001b[0m\u001b[0;34m\u001b[0m\u001b[0m\n\u001b[0m\u001b[1;32m   1209\u001b[0m                 \u001b[0;32melif\u001b[0m \u001b[0mlength\u001b[0m \u001b[0;32mand\u001b[0m \u001b[0mlen\u001b[0m\u001b[0;34m(\u001b[0m\u001b[0mdf_input\u001b[0m\u001b[0;34m[\u001b[0m\u001b[0margument\u001b[0m\u001b[0;34m]\u001b[0m\u001b[0;34m)\u001b[0m \u001b[0;34m!=\u001b[0m \u001b[0mlength\u001b[0m\u001b[0;34m:\u001b[0m\u001b[0;34m\u001b[0m\u001b[0;34m\u001b[0m\u001b[0m\n\u001b[1;32m   1210\u001b[0m                     raise ValueError(\n",
            "\u001b[0;31mValueError\u001b[0m: Value of 'x' is not the name of a column in 'data_frame'. Expected one of ['T_Picked', 'T_Wins', 'T_Loses', 'T_WinRate', 'T_PickPercentage', 'BS_Picked', 'BS_Wins', 'BS_Loses', 'BS_WinRate', 'RS_Picked', 'RS_Wins', 'RS_Loses', 'RS_WinRate', 'T_Banned', 'T_BansPercentage', 'T_PicksBans', 'T_PicksBansPercentage', 'Roles', 'Hero_\\xa0Aamon', 'Hero_\\xa0Akai', 'Hero_\\xa0Aldous', 'Hero_\\xa0Alice', 'Hero_\\xa0Alpha', 'Hero_\\xa0Alucard', 'Hero_\\xa0Arlott', 'Hero_\\xa0Atlas', 'Hero_\\xa0Aulus', 'Hero_\\xa0Badang', 'Hero_\\xa0Balmond', 'Hero_\\xa0Bane', 'Hero_\\xa0Barats', 'Hero_\\xa0Baxia', 'Hero_\\xa0Beatrix', 'Hero_\\xa0Belerick', 'Hero_\\xa0Benedetta', 'Hero_\\xa0Brody', 'Hero_\\xa0Bruno', 'Hero_\\xa0Carmilla', 'Hero_\\xa0Cecilion', \"Hero_\\xa0Chang'e\", 'Hero_\\xa0Chou', 'Hero_\\xa0Claude', 'Hero_\\xa0Clint', 'Hero_\\xa0Cyclops', 'Hero_\\xa0Diggie', 'Hero_\\xa0Dyrroth', 'Hero_\\xa0Edith', 'Hero_\\xa0Esmeralda', 'Hero_\\xa0Estes', 'Hero_\\xa0Faramis', 'Hero_\\xa0Floryn', 'Hero_\\xa0Franco', 'Hero_\\xa0Freya', 'Hero_\\xa0Gloo', 'Hero_\\xa0Gord', 'Hero_\\xa0Granger', 'Hero_\\xa0Grock', 'Hero_\\xa0Guinevere', 'Hero_\\xa0Gusion', 'Hero_\\xa0Hanabi', 'Hero_\\xa0Hanzo', 'Hero_\\xa0Harith', 'Hero_\\xa0Harley', 'Hero_\\xa0Hayabusa', 'Hero_\\xa0Helcurt', 'Hero_\\xa0Hilda', 'Hero_\\xa0Hylos', 'Hero_\\xa0Irithel', 'Hero_\\xa0Ixia', 'Hero_\\xa0Jawhead', 'Hero_\\xa0Joy', 'Hero_\\xa0Julian', 'Hero_\\xa0Kadita', 'Hero_\\xa0Kagura', 'Hero_\\xa0Kaja', 'Hero_\\xa0Karina', 'Hero_\\xa0Karrie', 'Hero_\\xa0Khaleed', 'Hero_\\xa0Khufra..."
          ]
        }
      ]
    },
    {
      "cell_type": "markdown",
      "source": [
        "Bisa diliat pada visualisasi di atas tingkat kemenangan/Win rate dari hero yang di pick di M5 Miya,\n",
        " Moskov, Freya dan Saber memiliki tingkat kemenangan tertinggi dan Alucard, Tigreal, Roger dan Zilong tidak memiliki win rate atau 0% Win Rate."
      ],
      "metadata": {
        "id": "I02suVFVW6Zs"
      }
    },
    {
      "cell_type": "code",
      "source": [
        "fig = px.bar(df.sort_values('T_WinRate'), x='Hero', y=['BS_WinRate', 'RS_WinRate'],\n",
        "             title='Win Rates by Side',\n",
        "             labels={'value': 'Win Rate', 'variable': 'Side'},\n",
        "             color_discrete_map={'BS_WinRate': 'blue', 'RS_WinRate': 'red'},\n",
        "             barmode='group')\n",
        "\n",
        "fig.update_layout(xaxis_title='Hero', yaxis_title='Win Rate', legend_title='Side')\n",
        "fig.show()\n",
        "\n"
      ],
      "metadata": {
        "id": "Uh30MP2pAyJ8"
      },
      "execution_count": null,
      "outputs": []
    },
    {
      "cell_type": "markdown",
      "source": [
        "Bisa diliat dari visualisasi di atas menampilkan tingkat kemenangan/Win rate hero yang jika di pakai oleh tim biru/merah dimana hero-hero yang di pakai oleh tim merah memiliki win rate yang lebih tinggi."
      ],
      "metadata": {
        "id": "D_ZpMNLEqtvO"
      }
    },
    {
      "cell_type": "code",
      "source": [
        "role_counts = df['Roles'].value_counts().reset_index()\n",
        "fig = px.bar(\n",
        "    role_counts,\n",
        "    x='Roles',\n",
        "    y='index',\n",
        "    labels={'index': 'Role', 'Roles': 'Roles'},\n",
        "    title='Distribution of Hero Roles in the Dataset',\n",
        ")\n",
        "fig.update_layout(\n",
        "    xaxis=dict(title='Roles'),\n",
        ")\n",
        "fig.show()\n"
      ],
      "metadata": {
        "id": "8hvXrubAjTIj"
      },
      "execution_count": null,
      "outputs": []
    },
    {
      "cell_type": "markdown",
      "source": [
        "Dari visualisasi di atas, terlihat bahwa distribusi role-role hero pada M5 World Championship menunjukkan bahwa role yang paling banyak didistribusikan adalah mage, diikuti oleh fighter, dan role yang paling sedikit didistribusikan adalah marksman/mage, mage/support, mage/assassin, marksman/fighter, marksman/support, fighter/support, support/mage, support/assassin, dan mage/tank."
      ],
      "metadata": {
        "id": "Z5lfZan6s4Ms"
      }
    },
    {
      "cell_type": "code",
      "source": [
        "fig = px.bar(df.sort_values(by='T_Picked'), x='Hero', y='T_Picked',\n",
        "             title='Jumlah Pick Secara Keseluruhan untuk Setiap hero',\n",
        "             labels={'Hero': 'Heroes', 'T_Picked': 'Jumlah Pick'},\n",
        "             color='T_Picked',\n",
        "             color_continuous_scale='Viridis')\n",
        "\n",
        "fig.update_layout(xaxis_title='Hero', yaxis_title='Jumlah Pick')\n",
        "fig.show()"
      ],
      "metadata": {
        "id": "Dgso49QOmSsF"
      },
      "execution_count": null,
      "outputs": []
    },
    {
      "cell_type": "markdown",
      "source": [
        "Dari hasil visualisasi diatas kit dapt mengetahui hero apa saja yang paling sering di pick dan yang paling sering di pick adalah hero valentina dan fredrin."
      ],
      "metadata": {
        "id": "nxLy4REpmzRj"
      }
    },
    {
      "cell_type": "code",
      "source": [
        "fig = px.scatter(df, x='T_Picked', y='T_WinRate',\n",
        "                 title='Korelasi Antara Pilihan Hero dengan Win Ratenya',\n",
        "                 labels={'T_Picked': 'Total Heroes Picked', 'T_WinRate': 'Win Rate'},\n",
        "                 color='Hero',\n",
        "                 color_continuous_scale='Viridis')\n",
        "\n",
        "fig.update_layout(xaxis_title='Total Heroes Picked', yaxis_title='Win Rate')\n",
        "fig.show()"
      ],
      "metadata": {
        "id": "PiUmiyPNURsU"
      },
      "execution_count": null,
      "outputs": []
    },
    {
      "cell_type": "markdown",
      "source": [
        "Dari visualisasi diatas kita dapat melihat korelasi dari total pick hero dengan win rate dari hero tersebut dimana kita dapat melihat Win rate yang tinggi kebanyakan pick heronya masih sedikit."
      ],
      "metadata": {
        "id": "Tsx1Kk8WdqRo"
      }
    },
    {
      "cell_type": "code",
      "source": [
        "fig = px.bar(df.sort_values(by='T_BansPercentage'), x='Hero', y='T_BansPercentage',\n",
        "             title='Overall Ban Percentage for Each Hero',\n",
        "             labels={'Hero': 'Heroes', 'T_BansPercentage': 'Ban Percentage'},\n",
        "             color='T_BansPercentage',\n",
        "             color_continuous_scale='Viridis')\n",
        "\n",
        "fig.update_layout(xaxis_title='Heroes', yaxis_title='Ban Percentage')\n",
        "fig.show()"
      ],
      "metadata": {
        "id": "wYnczawOUwzs"
      },
      "execution_count": null,
      "outputs": []
    },
    {
      "cell_type": "markdown",
      "source": [
        "Dari visualisasi diatas kita dapat melihat hero hero apa saja yang sering di ban, dan angela adalah hero paling sering di ban pada kejuaraan M5 dimana persentasi bannya 53%."
      ],
      "metadata": {
        "id": "Kr9mFKholaN4"
      }
    },
    {
      "cell_type": "code",
      "source": [
        "fig = px.bar(df.sort_values(by='T_PicksBansPercentage'), x='Hero', y='T_PicksBansPercentage',\n",
        "             title='Heroes with High Pick and Ban Percentages',\n",
        "             labels={'Hero': 'Heroes', 'T_PicksBansPercentage': 'Pick and Ban Percentage'},\n",
        "             color='T_PicksBansPercentage',\n",
        "             color_continuous_scale='Viridis')\n",
        "\n",
        "fig.update_layout(xaxis_title='Heroes', yaxis_title='Pick and Ban Percentage')\n",
        "fig.show()"
      ],
      "metadata": {
        "colab": {
          "base_uri": "https://localhost:8080/",
          "height": 616
        },
        "id": "HrfNNZ1xVJk3",
        "outputId": "c6f91eb1-d92f-42b6-8fce-d58a4f0b1a8b"
      },
      "execution_count": 115,
      "outputs": [
        {
          "output_type": "error",
          "ename": "ValueError",
          "evalue": "Value of 'x' is not the name of a column in 'data_frame'. Expected one of ['T_Picked', 'T_Wins', 'T_Loses', 'T_WinRate', 'T_PickPercentage', 'BS_Picked', 'BS_Wins', 'BS_Loses', 'BS_WinRate', 'RS_Picked', 'RS_Wins', 'RS_Loses', 'RS_WinRate', 'T_Banned', 'T_BansPercentage', 'T_PicksBans', 'T_PicksBansPercentage', 'Roles', 'Hero_\\xa0Aamon', 'Hero_\\xa0Akai', 'Hero_\\xa0Aldous', 'Hero_\\xa0Alice', 'Hero_\\xa0Alpha', 'Hero_\\xa0Alucard', 'Hero_\\xa0Arlott', 'Hero_\\xa0Atlas', 'Hero_\\xa0Aulus', 'Hero_\\xa0Badang', 'Hero_\\xa0Balmond', 'Hero_\\xa0Bane', 'Hero_\\xa0Barats', 'Hero_\\xa0Baxia', 'Hero_\\xa0Beatrix', 'Hero_\\xa0Belerick', 'Hero_\\xa0Benedetta', 'Hero_\\xa0Brody', 'Hero_\\xa0Bruno', 'Hero_\\xa0Carmilla', 'Hero_\\xa0Cecilion', \"Hero_\\xa0Chang'e\", 'Hero_\\xa0Chou', 'Hero_\\xa0Claude', 'Hero_\\xa0Clint', 'Hero_\\xa0Cyclops', 'Hero_\\xa0Diggie', 'Hero_\\xa0Dyrroth', 'Hero_\\xa0Edith', 'Hero_\\xa0Esmeralda', 'Hero_\\xa0Estes', 'Hero_\\xa0Faramis', 'Hero_\\xa0Floryn', 'Hero_\\xa0Franco', 'Hero_\\xa0Freya', 'Hero_\\xa0Gloo', 'Hero_\\xa0Gord', 'Hero_\\xa0Granger', 'Hero_\\xa0Grock', 'Hero_\\xa0Guinevere', 'Hero_\\xa0Gusion', 'Hero_\\xa0Hanabi', 'Hero_\\xa0Hanzo', 'Hero_\\xa0Harith', 'Hero_\\xa0Harley', 'Hero_\\xa0Hayabusa', 'Hero_\\xa0Helcurt', 'Hero_\\xa0Hilda', 'Hero_\\xa0Hylos', 'Hero_\\xa0Irithel', 'Hero_\\xa0Ixia', 'Hero_\\xa0Jawhead', 'Hero_\\xa0Joy', 'Hero_\\xa0Julian', 'Hero_\\xa0Kadita', 'Hero_\\xa0Kagura', 'Hero_\\xa0Kaja', 'Hero_\\xa0Karina', 'Hero_\\xa0Karrie', 'Hero_\\xa0Khaleed', 'Hero_\\xa0Khufra', 'Hero_\\xa0Kimmy', 'Hero_\\xa0Lancelot', 'Hero_\\xa0Lapu-Lapu', 'Hero_\\xa0Layla', 'Hero_\\xa0Leomord', 'Hero_\\xa0Lesley', 'Hero_\\xa0Ling', 'Hero_\\xa0Lolita', 'Hero_\\xa0Lunox', 'Hero_\\xa0Luo Yi', 'Hero_\\xa0Lylia', 'Hero_\\xa0Martis', 'Hero_\\xa0Masha', 'Hero_\\xa0Mathilda', 'Hero_\\xa0Melissa', 'Hero_\\xa0Minotaur', 'Hero_\\xa0Minsitthar', 'Hero_\\xa0Miya', 'Hero_\\xa0Moskov', 'Hero_\\xa0Nana', 'Hero_\\xa0Natalia', 'Hero_\\xa0Natan', 'Hero_\\xa0Nolan', 'Hero_\\xa0Novaria', 'Hero_\\xa0Paquito', 'Hero_\\xa0Pharsa', 'Hero_\\xa0Phoveus', 'Hero_\\xa0Popol and Kupa', 'Hero_\\xa0Rafaela', 'Hero_\\xa0Roger', 'Hero_\\xa0Ruby', 'Hero_\\xa0Saber', 'Hero_\\xa0Selena', 'Hero_\\xa0Silvanna', 'Hero_\\xa0Sun', 'Hero_\\xa0Thamuz', 'Hero_\\xa0Tigreal', 'Hero_\\xa0Uranus', 'Hero_\\xa0Vale', 'Hero_\\xa0Valir', 'Hero_\\xa0Vexana', 'Hero_\\xa0Wanwan', 'Hero_\\xa0X.Borg', 'Hero_\\xa0Xavier', 'Hero_\\xa0Yi Sun-Shin', 'Hero_\\xa0Yin', 'Hero_\\xa0Yu Zhong', 'Hero_\\xa0Yve', 'Hero_\\xa0Zilong'] but received: Hero",
          "traceback": [
            "\u001b[0;31m---------------------------------------------------------------------------\u001b[0m",
            "\u001b[0;31mValueError\u001b[0m                                Traceback (most recent call last)",
            "\u001b[0;32m<ipython-input-115-c9a565cc2e40>\u001b[0m in \u001b[0;36m<cell line: 1>\u001b[0;34m()\u001b[0m\n\u001b[0;32m----> 1\u001b[0;31m fig = px.bar(df.sort_values(by='T_PicksBansPercentage'), x='Hero', y='T_PicksBansPercentage',\n\u001b[0m\u001b[1;32m      2\u001b[0m              \u001b[0mtitle\u001b[0m\u001b[0;34m=\u001b[0m\u001b[0;34m'Heroes with High Pick and Ban Percentages'\u001b[0m\u001b[0;34m,\u001b[0m\u001b[0;34m\u001b[0m\u001b[0;34m\u001b[0m\u001b[0m\n\u001b[1;32m      3\u001b[0m              \u001b[0mlabels\u001b[0m\u001b[0;34m=\u001b[0m\u001b[0;34m{\u001b[0m\u001b[0;34m'Hero'\u001b[0m\u001b[0;34m:\u001b[0m \u001b[0;34m'Heroes'\u001b[0m\u001b[0;34m,\u001b[0m \u001b[0;34m'T_PicksBansPercentage'\u001b[0m\u001b[0;34m:\u001b[0m \u001b[0;34m'Pick and Ban Percentage'\u001b[0m\u001b[0;34m}\u001b[0m\u001b[0;34m,\u001b[0m\u001b[0;34m\u001b[0m\u001b[0;34m\u001b[0m\u001b[0m\n\u001b[1;32m      4\u001b[0m              \u001b[0mcolor\u001b[0m\u001b[0;34m=\u001b[0m\u001b[0;34m'T_PicksBansPercentage'\u001b[0m\u001b[0;34m,\u001b[0m\u001b[0;34m\u001b[0m\u001b[0;34m\u001b[0m\u001b[0m\n\u001b[1;32m      5\u001b[0m              color_continuous_scale='Viridis')\n",
            "\u001b[0;32m/usr/local/lib/python3.10/dist-packages/plotly/express/_chart_types.py\u001b[0m in \u001b[0;36mbar\u001b[0;34m(data_frame, x, y, color, pattern_shape, facet_row, facet_col, facet_col_wrap, facet_row_spacing, facet_col_spacing, hover_name, hover_data, custom_data, text, base, error_x, error_x_minus, error_y, error_y_minus, animation_frame, animation_group, category_orders, labels, color_discrete_sequence, color_discrete_map, color_continuous_scale, pattern_shape_sequence, pattern_shape_map, range_color, color_continuous_midpoint, opacity, orientation, barmode, log_x, log_y, range_x, range_y, text_auto, title, template, width, height)\u001b[0m\n\u001b[1;32m    371\u001b[0m     \u001b[0mmark\u001b[0m\u001b[0;34m.\u001b[0m\u001b[0;34m\u001b[0m\u001b[0;34m\u001b[0m\u001b[0m\n\u001b[1;32m    372\u001b[0m     \"\"\"\n\u001b[0;32m--> 373\u001b[0;31m     return make_figure(\n\u001b[0m\u001b[1;32m    374\u001b[0m         \u001b[0margs\u001b[0m\u001b[0;34m=\u001b[0m\u001b[0mlocals\u001b[0m\u001b[0;34m(\u001b[0m\u001b[0;34m)\u001b[0m\u001b[0;34m,\u001b[0m\u001b[0;34m\u001b[0m\u001b[0;34m\u001b[0m\u001b[0m\n\u001b[1;32m    375\u001b[0m         \u001b[0mconstructor\u001b[0m\u001b[0;34m=\u001b[0m\u001b[0mgo\u001b[0m\u001b[0;34m.\u001b[0m\u001b[0mBar\u001b[0m\u001b[0;34m,\u001b[0m\u001b[0;34m\u001b[0m\u001b[0;34m\u001b[0m\u001b[0m\n",
            "\u001b[0;32m/usr/local/lib/python3.10/dist-packages/plotly/express/_core.py\u001b[0m in \u001b[0;36mmake_figure\u001b[0;34m(args, constructor, trace_patch, layout_patch)\u001b[0m\n\u001b[1;32m   2001\u001b[0m     \u001b[0mapply_default_cascade\u001b[0m\u001b[0;34m(\u001b[0m\u001b[0margs\u001b[0m\u001b[0;34m)\u001b[0m\u001b[0;34m\u001b[0m\u001b[0;34m\u001b[0m\u001b[0m\n\u001b[1;32m   2002\u001b[0m \u001b[0;34m\u001b[0m\u001b[0m\n\u001b[0;32m-> 2003\u001b[0;31m     \u001b[0margs\u001b[0m \u001b[0;34m=\u001b[0m \u001b[0mbuild_dataframe\u001b[0m\u001b[0;34m(\u001b[0m\u001b[0margs\u001b[0m\u001b[0;34m,\u001b[0m \u001b[0mconstructor\u001b[0m\u001b[0;34m)\u001b[0m\u001b[0;34m\u001b[0m\u001b[0;34m\u001b[0m\u001b[0m\n\u001b[0m\u001b[1;32m   2004\u001b[0m     \u001b[0;32mif\u001b[0m \u001b[0mconstructor\u001b[0m \u001b[0;32min\u001b[0m \u001b[0;34m[\u001b[0m\u001b[0mgo\u001b[0m\u001b[0;34m.\u001b[0m\u001b[0mTreemap\u001b[0m\u001b[0;34m,\u001b[0m \u001b[0mgo\u001b[0m\u001b[0;34m.\u001b[0m\u001b[0mSunburst\u001b[0m\u001b[0;34m,\u001b[0m \u001b[0mgo\u001b[0m\u001b[0;34m.\u001b[0m\u001b[0mIcicle\u001b[0m\u001b[0;34m]\u001b[0m \u001b[0;32mand\u001b[0m \u001b[0margs\u001b[0m\u001b[0;34m[\u001b[0m\u001b[0;34m\"path\"\u001b[0m\u001b[0;34m]\u001b[0m \u001b[0;32mis\u001b[0m \u001b[0;32mnot\u001b[0m \u001b[0;32mNone\u001b[0m\u001b[0;34m:\u001b[0m\u001b[0;34m\u001b[0m\u001b[0;34m\u001b[0m\u001b[0m\n\u001b[1;32m   2005\u001b[0m         \u001b[0margs\u001b[0m \u001b[0;34m=\u001b[0m \u001b[0mprocess_dataframe_hierarchy\u001b[0m\u001b[0;34m(\u001b[0m\u001b[0margs\u001b[0m\u001b[0;34m)\u001b[0m\u001b[0;34m\u001b[0m\u001b[0;34m\u001b[0m\u001b[0m\n",
            "\u001b[0;32m/usr/local/lib/python3.10/dist-packages/plotly/express/_core.py\u001b[0m in \u001b[0;36mbuild_dataframe\u001b[0;34m(args, constructor)\u001b[0m\n\u001b[1;32m   1410\u001b[0m     \u001b[0;31m# now that things have been prepped, we do the systematic rewriting of `args`\u001b[0m\u001b[0;34m\u001b[0m\u001b[0;34m\u001b[0m\u001b[0m\n\u001b[1;32m   1411\u001b[0m \u001b[0;34m\u001b[0m\u001b[0m\n\u001b[0;32m-> 1412\u001b[0;31m     df_output, wide_id_vars = process_args_into_dataframe(\n\u001b[0m\u001b[1;32m   1413\u001b[0m         \u001b[0margs\u001b[0m\u001b[0;34m,\u001b[0m \u001b[0mwide_mode\u001b[0m\u001b[0;34m,\u001b[0m \u001b[0mvar_name\u001b[0m\u001b[0;34m,\u001b[0m \u001b[0mvalue_name\u001b[0m\u001b[0;34m\u001b[0m\u001b[0;34m\u001b[0m\u001b[0m\n\u001b[1;32m   1414\u001b[0m     )\n",
            "\u001b[0;32m/usr/local/lib/python3.10/dist-packages/plotly/express/_core.py\u001b[0m in \u001b[0;36mprocess_args_into_dataframe\u001b[0;34m(args, wide_mode, var_name, value_name)\u001b[0m\n\u001b[1;32m   1206\u001b[0m                         \u001b[0;32mif\u001b[0m \u001b[0margument\u001b[0m \u001b[0;34m==\u001b[0m \u001b[0;34m\"index\"\u001b[0m\u001b[0;34m:\u001b[0m\u001b[0;34m\u001b[0m\u001b[0;34m\u001b[0m\u001b[0m\n\u001b[1;32m   1207\u001b[0m                             \u001b[0merr_msg\u001b[0m \u001b[0;34m+=\u001b[0m \u001b[0;34m\"\\n To use the index, pass it in directly as `df.index`.\"\u001b[0m\u001b[0;34m\u001b[0m\u001b[0;34m\u001b[0m\u001b[0m\n\u001b[0;32m-> 1208\u001b[0;31m                         \u001b[0;32mraise\u001b[0m \u001b[0mValueError\u001b[0m\u001b[0;34m(\u001b[0m\u001b[0merr_msg\u001b[0m\u001b[0;34m)\u001b[0m\u001b[0;34m\u001b[0m\u001b[0;34m\u001b[0m\u001b[0m\n\u001b[0m\u001b[1;32m   1209\u001b[0m                 \u001b[0;32melif\u001b[0m \u001b[0mlength\u001b[0m \u001b[0;32mand\u001b[0m \u001b[0mlen\u001b[0m\u001b[0;34m(\u001b[0m\u001b[0mdf_input\u001b[0m\u001b[0;34m[\u001b[0m\u001b[0margument\u001b[0m\u001b[0;34m]\u001b[0m\u001b[0;34m)\u001b[0m \u001b[0;34m!=\u001b[0m \u001b[0mlength\u001b[0m\u001b[0;34m:\u001b[0m\u001b[0;34m\u001b[0m\u001b[0;34m\u001b[0m\u001b[0m\n\u001b[1;32m   1210\u001b[0m                     raise ValueError(\n",
            "\u001b[0;31mValueError\u001b[0m: Value of 'x' is not the name of a column in 'data_frame'. Expected one of ['T_Picked', 'T_Wins', 'T_Loses', 'T_WinRate', 'T_PickPercentage', 'BS_Picked', 'BS_Wins', 'BS_Loses', 'BS_WinRate', 'RS_Picked', 'RS_Wins', 'RS_Loses', 'RS_WinRate', 'T_Banned', 'T_BansPercentage', 'T_PicksBans', 'T_PicksBansPercentage', 'Roles', 'Hero_\\xa0Aamon', 'Hero_\\xa0Akai', 'Hero_\\xa0Aldous', 'Hero_\\xa0Alice', 'Hero_\\xa0Alpha', 'Hero_\\xa0Alucard', 'Hero_\\xa0Arlott', 'Hero_\\xa0Atlas', 'Hero_\\xa0Aulus', 'Hero_\\xa0Badang', 'Hero_\\xa0Balmond', 'Hero_\\xa0Bane', 'Hero_\\xa0Barats', 'Hero_\\xa0Baxia', 'Hero_\\xa0Beatrix', 'Hero_\\xa0Belerick', 'Hero_\\xa0Benedetta', 'Hero_\\xa0Brody', 'Hero_\\xa0Bruno', 'Hero_\\xa0Carmilla', 'Hero_\\xa0Cecilion', \"Hero_\\xa0Chang'e\", 'Hero_\\xa0Chou', 'Hero_\\xa0Claude', 'Hero_\\xa0Clint', 'Hero_\\xa0Cyclops', 'Hero_\\xa0Diggie', 'Hero_\\xa0Dyrroth', 'Hero_\\xa0Edith', 'Hero_\\xa0Esmeralda', 'Hero_\\xa0Estes', 'Hero_\\xa0Faramis', 'Hero_\\xa0Floryn', 'Hero_\\xa0Franco', 'Hero_\\xa0Freya', 'Hero_\\xa0Gloo', 'Hero_\\xa0Gord', 'Hero_\\xa0Granger', 'Hero_\\xa0Grock', 'Hero_\\xa0Guinevere', 'Hero_\\xa0Gusion', 'Hero_\\xa0Hanabi', 'Hero_\\xa0Hanzo', 'Hero_\\xa0Harith', 'Hero_\\xa0Harley', 'Hero_\\xa0Hayabusa', 'Hero_\\xa0Helcurt', 'Hero_\\xa0Hilda', 'Hero_\\xa0Hylos', 'Hero_\\xa0Irithel', 'Hero_\\xa0Ixia', 'Hero_\\xa0Jawhead', 'Hero_\\xa0Joy', 'Hero_\\xa0Julian', 'Hero_\\xa0Kadita', 'Hero_\\xa0Kagura', 'Hero_\\xa0Kaja', 'Hero_\\xa0Karina', 'Hero_\\xa0Karrie', 'Hero_\\xa0Khaleed', 'Hero_\\xa0Khufra..."
          ]
        }
      ]
    },
    {
      "cell_type": "markdown",
      "source": [
        "dari visualisasi diatas kita dapat melihat persentasi dari pick dan ban hero yang ada di kejuaraan M5 dimana presentasi pick dan ban tertinggi ad pada hero valentina 86.62% dan disusul oleh hero fredrin 85.91%."
      ],
      "metadata": {
        "id": "LitJPl8NnKOn"
      }
    },
    {
      "cell_type": "code",
      "source": [
        "fig = px.bar(df.sort_values(by=\"T_BansPercentage\",ascending=False), x='Roles', y='T_BansPercentage',\n",
        "             title='Ban Percentage by Hero Roles',\n",
        "             labels={'Roles': 'Hero Roles', 'T_BansPercentage': 'Ban Percentage'},\n",
        "             color='T_BansPercentage',\n",
        "             color_continuous_scale='Viridis')\n",
        "\n",
        "fig.show()"
      ],
      "metadata": {
        "id": "FXzDA4RFWCPM"
      },
      "execution_count": null,
      "outputs": []
    },
    {
      "cell_type": "markdown",
      "source": [
        "Berdasaran visualisasi diatas kita dapat melihat bahwa role hero dengan persentase ban yang paling tinggi adalah role mage."
      ],
      "metadata": {
        "id": "-1o7fP8dnn_m"
      }
    },
    {
      "cell_type": "code",
      "source": [
        "df_corr = df.corr(numeric_only=True)\n",
        "px.imshow(df_corr)"
      ],
      "metadata": {
        "id": "0X08NxKyHjAx"
      },
      "execution_count": null,
      "outputs": []
    },
    {
      "cell_type": "markdown",
      "source": [
        "Bisa kita liha hanya kolom Index saja yang tidak memiliki korelasi dengan kolom lainnya sedangkan jika Kolom yang lainnya berkorelasi satu sama lain\n",
        "\n",
        "---\n",
        "\n"
      ],
      "metadata": {
        "id": "cjC1z3aYfFG2"
      }
    },
    {
      "cell_type": "markdown",
      "source": [
        "##**Verify Data Quality**"
      ],
      "metadata": {
        "id": "BqwrKc6WXFpz"
      }
    },
    {
      "cell_type": "markdown",
      "source": [
        "####Missing Values"
      ],
      "metadata": {
        "id": "JrPhpE3VXTMR"
      }
    },
    {
      "cell_type": "code",
      "source": [
        "missing_values = df.isnull().sum()\n",
        "print (missing_values)"
      ],
      "metadata": {
        "id": "iq2vTmQJXhuj"
      },
      "execution_count": null,
      "outputs": []
    },
    {
      "cell_type": "markdown",
      "source": [
        "Setiap kolom dalam DataFrame tidak memiliki nilai yang hilang."
      ],
      "metadata": {
        "id": "slOURBViK1gW"
      }
    },
    {
      "cell_type": "markdown",
      "source": [
        "####Outliers Values"
      ],
      "metadata": {
        "id": "jEeCU-vVXV84"
      }
    },
    {
      "cell_type": "code",
      "source": [
        "results = []\n",
        "\n",
        "cols = df.select_dtypes(include=['int64'])\n",
        "\n",
        "for col in cols:\n",
        "  q1 = df[col].quantile(0.25)\n",
        "  q3 = df[col].quantile(0.75)\n",
        "  iqr = q3 - q1\n",
        "  lower_bound = q1 - 3*iqr\n",
        "  upper_bound = q3 + 3*iqr\n",
        "  outliers = df[(df[col] < lower_bound) | (df[col] > upper_bound)]\n",
        "  percent_outliers = (len(outliers)/len(df))*100\n",
        "  results.append({'Kolom': col, 'Persentase Outliers': percent_outliers})\n",
        "\n",
        "# Dataframe dari list hasil\n",
        "results_df = pd.DataFrame(results)\n",
        "results_df.set_index('Kolom', inplace=True)\n",
        "results_df = results_df.rename_axis(None, axis=0).rename_axis('Kolom', axis=1)\n",
        "\n",
        "# Tampilkan dataframe\n",
        "display(results_df)"
      ],
      "metadata": {
        "id": "4qOtR4ioQiAo"
      },
      "execution_count": null,
      "outputs": []
    },
    {
      "cell_type": "code",
      "source": [
        "boxplot = df.drop('Index', axis=1).boxplot(grid=False, rot=45,  figsize=(8,6))"
      ],
      "metadata": {
        "id": "wZ_0OHG0RRnw"
      },
      "execution_count": null,
      "outputs": []
    },
    {
      "cell_type": "markdown",
      "source": [
        "\n",
        "\n",
        "- Index: Persentase outliers pada kolom Index adalah 0%, yang menunjukkan bahwa tidak ada outliers dalam kolom ini.\n",
        "- T_Picked: Persentase outliers pada kolom T_Picked adalah 0%, yang menunjukkan bahwa tidak ada outliers dalam kolom ini.\n",
        "- T_Wins: Persentase outliers pada kolom T_Wins adalah 1.74%, yang menunjukkan bahwa sekitar 1.74% dari nilai dalam kolom ini dianggap sebagai outliers.\n",
        "- T_Loses: Persentase outliers pada kolom T_Loses adalah 0.87%, yang menunjukkan bahwa sekitar 0.87% dari nilai dalam kolom ini dianggap sebagai outliers.\n",
        "- BS_Picked: Persentase outliers pada kolom BS_Picked adalah 0%, yang menunjukkan bahwa tidak ada outliers dalam kolom ini.\n",
        "- BS_Wins: Persentase outliers pada kolom BS_Wins adalah 0%, yang menunjukkan bahwa tidak ada outliers dalam kolom ini.\n",
        "- BS_Loses: Persentase outliers pada kolom BS_Loses adalah 0%, yang menunjukkan bahwa tidak ada outliers dalam kolom ini.\n",
        "- RS_Picked: Persentase outliers pada kolom RS_Picked adalah 0.87%, yang menunjukkan bahwa sekitar 0.87% dari nilai dalam kolom ini dianggap sebagai outliers.\n",
        "- RS_Wins: Persentase outliers pada kolom RS_Wins adalah 2.61%, yang menunjukkan bahwa sekitar 2.61% dari nilai dalam kolom ini dianggap sebagai outliers.\n",
        "- RS_Loses: Persentase outliers pada kolom RS_Loses adalah 0.87%, yang menunjukkan bahwa sekitar 0.87% dari nilai dalam kolom ini dianggap sebagai outliers.\n",
        "- T_Banned: Persentase outliers pada kolom T_Banned adalah 1.74%, yang menunjukkan bahwa sekitar 1.74% dari nilai dalam kolom ini dianggap sebagai outliers.\n",
        "- T_PicksBans: Persentase outliers pada kolom T_PicksBans adalah 0%, yang menunjukkan bahwa tidak ada outliers dalam kolom ini.\n",
        "\n"
      ],
      "metadata": {
        "id": "5lpPXmMra6Zn"
      }
    },
    {
      "cell_type": "markdown",
      "source": [
        "####Duplicated Values"
      ],
      "metadata": {
        "id": "vWjwGwZaXaod"
      }
    },
    {
      "cell_type": "code",
      "source": [
        "print(\"Total Duplication: \", df.duplicated().sum())"
      ],
      "metadata": {
        "id": "7wcta1dbX8l3"
      },
      "execution_count": null,
      "outputs": []
    },
    {
      "cell_type": "markdown",
      "source": [
        "Berdasarkan hasil diatas kita dapat mengetahui bahwa tidak ada data yang terduplikasi"
      ],
      "metadata": {
        "id": "VKTUrMJAX0fv"
      }
    },
    {
      "cell_type": "markdown",
      "source": [
        "####Inconsistent Values / Noise (Optional)"
      ],
      "metadata": {
        "id": "q0_lULWDX-y6"
      }
    },
    {
      "cell_type": "code",
      "source": [
        "#Tambahkan kode untuk mengecek apakah ada nilai inkosisten/noise pada tiap kolom di dataset kalian ya (OPSIONAL)"
      ],
      "metadata": {
        "id": "cnvHMqE3YawE"
      },
      "execution_count": null,
      "outputs": []
    },
    {
      "cell_type": "markdown",
      "source": [
        "Jangan lupa juga untuk berikan penjelasan di sini (OPSIONAL)"
      ],
      "metadata": {
        "id": "zN9xijkWYhq2"
      }
    },
    {
      "cell_type": "markdown",
      "source": [
        "##**Data Cleaning**"
      ],
      "metadata": {
        "id": "NaWWlXUFbnLm"
      }
    },
    {
      "cell_type": "markdown",
      "source": [
        "####Missing Value"
      ],
      "metadata": {
        "id": "WabI8Wb5rliA"
      }
    },
    {
      "cell_type": "markdown",
      "source": [
        "Missing Vlue 0"
      ],
      "metadata": {
        "id": "jzh-_S3_smif"
      }
    },
    {
      "cell_type": "markdown",
      "source": [
        "####Outliers"
      ],
      "metadata": {
        "id": "KpCR0-fHcKY-"
      }
    },
    {
      "cell_type": "code",
      "source": [
        "results = []\n",
        "\n",
        "cols = df.select_dtypes(include=['int64'])\n",
        "\n",
        "for col in cols:\n",
        "  q1 = df[col].quantile(0.25)\n",
        "  q3 = df[col].quantile(0.75)\n",
        "  iqr = q3 - q1\n",
        "  lower_bound = q1 - 3*iqr\n",
        "  upper_bound = q3 + 3*iqr\n",
        "  outliers = df[(df[col] < lower_bound) | (df[col] > upper_bound)]\n",
        "  percent_outliers = (len(outliers)/len(df))*100\n",
        "  results.append({'Kolom': col, 'Persentase Outliers': percent_outliers})\n",
        "\n",
        "# Dataframe dari list hasil\n",
        "results_df = pd.DataFrame(results)\n",
        "results_df.set_index('Kolom', inplace=True)\n",
        "results_df = results_df.rename_axis(None, axis=0).rename_axis('Kolom', axis=1)\n",
        "\n",
        "# Tampilkan dataframe\n",
        "display(results_df)"
      ],
      "metadata": {
        "id": "PTQ3i9lbTgN2"
      },
      "execution_count": null,
      "outputs": []
    },
    {
      "cell_type": "markdown",
      "source": [
        "Menghapus outlaier yang ada dengan menggunakan code dibawah ini"
      ],
      "metadata": {
        "id": "If5pge0wej3j"
      }
    },
    {
      "cell_type": "code",
      "source": [
        "# Menghitung quartile, IQR, batas bawah, dan batas atas untuk setiap kolom\n",
        "Q1_T_Picked = df['T_Picked'].quantile(0.25)\n",
        "Q3_T_Picked = df['T_Picked'].quantile(0.75)\n",
        "IQR_T_Picked = Q3_T_Picked - Q1_T_Picked\n",
        "lower_bound_T_Picked = Q1_T_Picked - 3 * IQR_T_Picked\n",
        "upper_bound_T_Picked = Q3_T_Picked + 3 * IQR_T_Picked\n",
        "\n",
        "Q1_T_Wins = df['T_Wins'].quantile(0.25)\n",
        "Q3_T_Wins = df['T_Wins'].quantile(0.75)\n",
        "IQR_T_Wins = Q3_T_Wins - Q1_T_Wins\n",
        "lower_bound_T_Wins = Q1_T_Wins - 3 * IQR_T_Wins\n",
        "upper_bound_T_Wins = Q3_T_Wins + 3 * IQR_T_Wins\n",
        "\n",
        "Q1_T_Loses = df['T_Loses'].quantile(0.25)\n",
        "Q3_T_Loses = df['T_Loses'].quantile(0.75)\n",
        "IQR_T_Loses = Q3_T_Loses - Q1_T_Loses\n",
        "lower_bound_T_Loses = Q1_T_Loses - 3 * IQR_T_Loses\n",
        "upper_bound_T_Loses = Q3_T_Loses + 3 * IQR_T_Loses\n",
        "\n",
        "Q1_BS_Picked = df['BS_Picked'].quantile(0.25)\n",
        "Q3_BS_Picked = df['BS_Picked'].quantile(0.75)\n",
        "IQR_BS_Picked = Q3_BS_Picked - Q1_BS_Picked\n",
        "lower_bound_BS_Picked = Q1_BS_Picked - 3 * IQR_BS_Picked\n",
        "upper_bound_BS_Picked = Q3_BS_Picked + 3 * IQR_BS_Picked\n",
        "\n",
        "Q1_BS_Wins = df['BS_Wins'].quantile(0.25)\n",
        "Q3_BS_Wins = df['BS_Wins'].quantile(0.75)\n",
        "IQR_BS_Wins = Q3_BS_Wins - Q1_BS_Wins\n",
        "lower_bound_BS_Wins = Q1_BS_Wins - 3 * IQR_BS_Wins\n",
        "upper_bound_BS_Wins = Q3_BS_Wins + 3 * IQR_BS_Wins\n",
        "\n",
        "Q1_BS_Loses = df['BS_Loses'].quantile(0.25)\n",
        "Q3_BS_Loses = df['BS_Loses'].quantile(0.75)\n",
        "IQR_BS_Loses = Q3_BS_Loses - Q1_BS_Loses\n",
        "lower_bound_BS_Loses = Q1_BS_Loses - 3 * IQR_BS_Loses\n",
        "upper_bound_BS_Loses = Q3_BS_Loses + 3 * IQR_BS_Loses\n",
        "\n",
        "Q1_RS_Picked = df['RS_Picked'].quantile(0.25)\n",
        "Q3_RS_Picked = df['RS_Picked'].quantile(0.75)\n",
        "IQR_RS_Picked = Q3_RS_Picked - Q1_RS_Picked\n",
        "lower_bound_RS_Picked = Q1_RS_Picked - 3 * IQR_RS_Picked\n",
        "upper_bound_RS_Picked = Q3_RS_Picked + 3 * IQR_RS_Picked\n",
        "\n",
        "Q1_RS_Wins = df['RS_Wins'].quantile(0.25)\n",
        "Q3_RS_Wins = df['RS_Wins'].quantile(0.75)\n",
        "IQR_RS_Wins = Q3_RS_Wins - Q1_RS_Wins\n",
        "lower_bound_RS_Wins = Q1_RS_Wins - 3 * IQR_RS_Wins\n",
        "upper_bound_RS_Wins = Q3_RS_Wins + 3 * IQR_RS_Wins\n",
        "\n",
        "Q1_RS_Loses = df['RS_Loses'].quantile(0.25)\n",
        "Q3_RS_Loses = df['RS_Loses'].quantile(0.75)\n",
        "IQR_RS_Loses = Q3_RS_Loses - Q1_RS_Loses\n",
        "lower_bound_RS_Loses = Q1_RS_Loses - 3 * IQR_RS_Loses\n",
        "upper_bound_RS_Loses = Q3_RS_Loses + 3 * IQR_RS_Loses\n",
        "\n",
        "Q1_T_Banned = df['T_Banned'].quantile(0.25)\n",
        "Q3_T_Banned = df['T_Banned'].quantile(0.75)\n",
        "IQR_T_Banned = Q3_T_Banned - Q1_T_Banned\n",
        "lower_bound_T_Banned = Q1_T_Banned - 3 * IQR_T_Banned\n",
        "upper_bound_T_Banned = Q3_T_Banned + 3 * IQR_T_Banned\n",
        "\n",
        "Q1_T_PicksBans = df['T_PicksBans'].quantile(0.25)\n",
        "Q3_T_PicksBans = df['T_PicksBans'].quantile(0.75)\n",
        "IQR_T_PicksBans = Q3_T_PicksBans - Q1_T_PicksBans\n",
        "lower_bound_T_PicksBans = Q1_T_PicksBans - 3 * IQR_T_PicksBans\n",
        "upper_bound_T_PicksBans = Q3_T_PicksBans + 3 * IQR_T_PicksBans\n",
        "\n",
        "# Filter DataFrame untuk menghilangkan outliers\n",
        "df = df[(df['T_Picked'] >= lower_bound_T_Picked) & (df['T_Picked'] <= upper_bound_T_Picked)]\n",
        "df = df[(df['T_Wins'] >= lower_bound_T_Wins) & (df['T_Wins'] <= upper_bound_T_Wins)]\n",
        "df = df[(df['T_Loses'] >= lower_bound_T_Loses) & (df['T_Loses'] <= upper_bound_T_Loses)]\n",
        "df = df[(df['BS_Picked'] >= lower_bound_BS_Picked) & (df['BS_Picked'] <= upper_bound_BS_Picked)]\n",
        "df = df[(df['BS_Wins'] >= lower_bound_BS_Wins) & (df['BS_Wins'] <= upper_bound_BS_Wins)]\n",
        "df = df[(df['BS_Loses'] >= lower_bound_BS_Loses) & (df['BS_Loses'] <= upper_bound_BS_Loses)]\n",
        "df = df[(df['RS_Picked'] >= lower_bound_RS_Picked) & (df['RS_Picked'] <= upper_bound_RS_Picked)]\n",
        "df = df[(df['RS_Wins'] >= lower_bound_RS_Wins) & (df['RS_Wins'] <= upper_bound_RS_Wins)]\n",
        "df = df[(df['RS_Loses'] >= lower_bound_RS_Loses) & (df['RS_Loses'] <= upper_bound_RS_Loses)]\n",
        "df = df[(df['T_Banned'] >= lower_bound_T_Banned) & (df['T_Banned'] <= upper_bound_T_Banned)]\n",
        "df = df[(df['T_PicksBans'] >= lower_bound_T_PicksBans) & (df['T_PicksBans'] <= upper_bound_T_PicksBans)]\n"
      ],
      "metadata": {
        "id": "Mn5hIBwVefxU"
      },
      "execution_count": null,
      "outputs": []
    },
    {
      "cell_type": "markdown",
      "source": [
        "Batas yang saya gunakan adalah 3 kerena jika hanya 1.5 maka outlier tidak dapat dihilangkan sama sekali"
      ],
      "metadata": {
        "id": "3aTmFQFyzycJ"
      }
    },
    {
      "cell_type": "code",
      "source": [
        "results = []\n",
        "\n",
        "cols = df.select_dtypes(include=['int64'])\n",
        "\n",
        "for col in cols:\n",
        "  q1 = df[col].quantile(0.25)\n",
        "  q3 = df[col].quantile(0.75)\n",
        "  iqr = q3 - q1\n",
        "  lower_bound = q1 - 3*iqr\n",
        "  upper_bound = q3 + 3*iqr\n",
        "  outliers = df[(df[col] < lower_bound) | (df[col] > upper_bound)]\n",
        "  percent_outliers = (len(outliers)/len(df))*100\n",
        "  results.append({'Kolom': col, 'Persentase Outliers': percent_outliers})\n",
        "\n",
        "# Dataframe dari list hasil\n",
        "results_df = pd.DataFrame(results)\n",
        "results_df.set_index('Kolom', inplace=True)\n",
        "results_df = results_df.rename_axis(None, axis=0).rename_axis('Kolom', axis=1)\n",
        "\n",
        "# Tampilkan dataframe\n",
        "display(results_df)"
      ],
      "metadata": {
        "id": "GXnqjteoGOj_"
      },
      "execution_count": null,
      "outputs": []
    },
    {
      "cell_type": "markdown",
      "source": [
        "Bisa kita liat semua outliers sudah dihilangkan kecuali pada T_Banned yang hanya tersisa 2.7% dan tidak bisa dihilangkan lagi, kaena kalau mencoba menghilangkannya outliers lain akan muncul"
      ],
      "metadata": {
        "id": "O9w7fq0DezFW"
      }
    },
    {
      "cell_type": "markdown",
      "source": [
        "##**Construct Data**##"
      ],
      "metadata": {
        "id": "iHNfxXXNxnhr"
      }
    },
    {
      "cell_type": "code",
      "source": [
        "df['T_WinRate'] = pd.to_numeric(df['T_WinRate'].str.strip('%'), errors='coerce')\n",
        "df['T_PickPercentage'] = pd.to_numeric(df['T_PickPercentage'].str.strip('%'), errors='coerce')\n",
        "df['BS_WinRate'] = pd.to_numeric(df['BS_WinRate'].str.strip('%'), errors='coerce')\n",
        "df['RS_WinRate'] = pd.to_numeric(df['RS_WinRate'].str.strip('%'), errors='coerce')\n",
        "df['T_BansPercentage'] = pd.to_numeric(df['T_BansPercentage'].str.strip('%'), errors='coerce')\n",
        "df['T_PicksBansPercentage'] = pd.to_numeric(df['T_PicksBansPercentage'].str.strip('%'), errors='coerce')"
      ],
      "metadata": {
        "id": "X4XkCzwexOb4"
      },
      "execution_count": null,
      "outputs": []
    },
    {
      "cell_type": "markdown",
      "source": [
        "Pada kode diatas merudah % menjadi numeric agar bisa dihitung dalam operasi dan agar kita bisa melihat Total Win Rate, Total Pick Percentage, Blue Side Win Rate, Red side Win Rate, Total Ban Precentage, Total Pick Percentage dan agar kolom kolom itu bisa divisualisasikan."
      ],
      "metadata": {
        "id": "hsZKvXeZx5Yc"
      }
    },
    {
      "cell_type": "markdown",
      "source": [
        "##**Data Reduction**##"
      ],
      "metadata": {
        "id": "koGxqpaU05pG"
      }
    },
    {
      "cell_type": "code",
      "source": [
        "df.drop(['Index', 'Played By', 'Played With','Played Vs.'], axis=1,inplace=True)\n",
        "df.head()"
      ],
      "metadata": {
        "id": "asb-Z96001bz"
      },
      "execution_count": null,
      "outputs": []
    },
    {
      "cell_type": "markdown",
      "source": [
        "klom-kolom seperti 'Index', 'Played By', 'Played With', dan 'Played Vs.' mungkin tidak relevan atau tidak diperlukan untuk analisis atau pemodelan yang akan saya lakukan. Saya menganalisis kinerja hero dalam permainan, informasi tentang siapa yang memainkan hero tersebut, dengan siapa, atau melawan siapa tidak terlalu diperlukan."
      ],
      "metadata": {
        "id": "T--Rlz_l086I"
      }
    },
    {
      "cell_type": "markdown",
      "source": [
        "##**Data Transformation**##"
      ],
      "metadata": {
        "id": "vDASl9CWhICQ"
      }
    },
    {
      "cell_type": "markdown",
      "source": [
        "###**Maping**"
      ],
      "metadata": {
        "id": "FvnFiLjrw9ET"
      }
    },
    {
      "cell_type": "code",
      "source": [
        "roles_mapping = {\n",
        "    'Mage': 1,\n",
        "    'Support': 2,\n",
        "    'Fighter': 3,\n",
        "    'Tank': 4,\n",
        "    'Marksman': 5,\n",
        "    'Assassin': 6,\n",
        "    'Support / Mage': 2.1,\n",
        "    'Fighter / Tank': 3.4,\n",
        "    'Support / Assassin': 2.6,\n",
        "    'Marksman / Assassin': 5.6,\n",
        "    'Mage / Tank' : 1.4,\n",
        "    'Assassin / Mage': 6.1,\n",
        "    'Fighter / Support': 3.2,\n",
        "    'Marksman / Support': 5.2,\n",
        "    'Marksman / Fighter': 5.3,\n",
        "    'Mage / Assassin': 1.6,\n",
        "    'Marksman / Mage': 5.1,\n",
        "    'Fighter / Mage': 3.1\n",
        "}\n",
        "\n",
        "df['Roles'] = df['Roles'].map(roles_mapping)\n"
      ],
      "metadata": {
        "id": "DlIA7vGDybJ0"
      },
      "execution_count": null,
      "outputs": []
    },
    {
      "cell_type": "markdown",
      "source": [
        "###**Encoding**"
      ],
      "metadata": {
        "id": "nUtaggvLoARj"
      }
    },
    {
      "cell_type": "code",
      "source": [
        "df = pd.get_dummies(df)\n"
      ],
      "metadata": {
        "id": "C8BkZLkUhbYo"
      },
      "execution_count": null,
      "outputs": []
    },
    {
      "cell_type": "markdown",
      "source": [
        "Code tersebut digunakan untuk mengonversi variabel kategorikal dalam DataFrame menjadi bentuk biner, di mana setiap nilai kategorikal menjadi kolom baru."
      ],
      "metadata": {
        "id": "OjlH18GWoKeI"
      }
    },
    {
      "cell_type": "code",
      "source": [
        "df"
      ],
      "metadata": {
        "id": "wBPpyjWVoRx_"
      },
      "execution_count": null,
      "outputs": []
    },
    {
      "cell_type": "code",
      "source": [
        "df.to_csv(\"Data Cleaned.csv\", index=False)"
      ],
      "metadata": {
        "id": "rZDeXLmkyj_1"
      },
      "execution_count": null,
      "outputs": []
    },
    {
      "cell_type": "markdown",
      "source": [
        "menyimpan data cleaned"
      ],
      "metadata": {
        "id": "qCkXJcseyjrh"
      }
    },
    {
      "cell_type": "markdown",
      "source": [
        "#**Modelling Associate**"
      ],
      "metadata": {
        "id": "MMphfw5j0L5r"
      }
    },
    {
      "cell_type": "markdown",
      "source": [
        "Menggunakan Modelling Associate untuk membuat kolom target yang akan digunakan pada proses Modelling Predict."
      ],
      "metadata": {
        "id": "zgwc6dPhqNo3"
      }
    },
    {
      "cell_type": "markdown",
      "source": [
        "###**Pre-Processing**"
      ],
      "metadata": {
        "id": "A9Ze26J10XZ5"
      }
    },
    {
      "cell_type": "markdown",
      "source": [
        "#####**Adjusment**"
      ],
      "metadata": {
        "id": "sss6Muon0ciG"
      }
    },
    {
      "cell_type": "code",
      "source": [
        "x_final = df"
      ],
      "metadata": {
        "id": "AIPB0wNd0igH"
      },
      "execution_count": 116,
      "outputs": []
    },
    {
      "cell_type": "markdown",
      "source": [
        "#####**Normalisasi Data**"
      ],
      "metadata": {
        "id": "fPui7XKu0s5A"
      }
    },
    {
      "cell_type": "code",
      "source": [
        "scaler = MinMaxScaler()\n",
        "\n",
        "x_final_norm = scaler.fit_transform(x_final)\n",
        ""
      ],
      "metadata": {
        "id": "cRyNrmfv0u8h"
      },
      "execution_count": 117,
      "outputs": []
    },
    {
      "cell_type": "markdown",
      "source": [
        "Kode tersebut dimaksudkan untuk menormalkan atau menyesuaikan skala fitur-fitur dalam kumpulan data x_final. Normalisasi data adalah langkah penting dalam analisis data untuk memastikan bahwa semua fitur memiliki rentang nilai yang serupa"
      ],
      "metadata": {
        "id": "R7Z4EHJMqsDO"
      }
    },
    {
      "cell_type": "markdown",
      "source": [
        "#####**Validasi Silang**"
      ],
      "metadata": {
        "id": "TLbF3wQu1PaC"
      }
    },
    {
      "cell_type": "code",
      "source": [
        "inertia_values = []\n",
        "\n",
        "k_range = range(2, 10)\n",
        "\n",
        "for k in k_range:\n",
        "    kmeans = KMeans(n_clusters=k, random_state=42)\n",
        "    kmeans.fit(x_final_norm)\n",
        "    inertia_values.append(kmeans.inertia_)\n",
        "\n",
        "plt.plot(k_range, inertia_values, marker='o')\n",
        "plt.xlabel('Number of clusters (K)')\n",
        "plt.ylabel('Inertia')\n",
        "plt.title('Elbow Method for Optimal K')\n",
        "plt.xticks(k_range)\n",
        "plt.show()\n",
        ""
      ],
      "metadata": {
        "colab": {
          "base_uri": "https://localhost:8080/",
          "height": 1000
        },
        "id": "TlNwCK0e1OUT",
        "outputId": "e35b9b2f-8e63-478f-b258-255fe6e69eb0"
      },
      "execution_count": 118,
      "outputs": [
        {
          "output_type": "stream",
          "name": "stderr",
          "text": [
            "/usr/local/lib/python3.10/dist-packages/sklearn/cluster/_kmeans.py:870: FutureWarning:\n",
            "\n",
            "The default value of `n_init` will change from 10 to 'auto' in 1.4. Set the value of `n_init` explicitly to suppress the warning\n",
            "\n",
            "/usr/local/lib/python3.10/dist-packages/sklearn/cluster/_kmeans.py:870: FutureWarning:\n",
            "\n",
            "The default value of `n_init` will change from 10 to 'auto' in 1.4. Set the value of `n_init` explicitly to suppress the warning\n",
            "\n",
            "/usr/local/lib/python3.10/dist-packages/sklearn/cluster/_kmeans.py:870: FutureWarning:\n",
            "\n",
            "The default value of `n_init` will change from 10 to 'auto' in 1.4. Set the value of `n_init` explicitly to suppress the warning\n",
            "\n",
            "/usr/local/lib/python3.10/dist-packages/sklearn/cluster/_kmeans.py:870: FutureWarning:\n",
            "\n",
            "The default value of `n_init` will change from 10 to 'auto' in 1.4. Set the value of `n_init` explicitly to suppress the warning\n",
            "\n",
            "/usr/local/lib/python3.10/dist-packages/sklearn/cluster/_kmeans.py:870: FutureWarning:\n",
            "\n",
            "The default value of `n_init` will change from 10 to 'auto' in 1.4. Set the value of `n_init` explicitly to suppress the warning\n",
            "\n",
            "/usr/local/lib/python3.10/dist-packages/sklearn/cluster/_kmeans.py:870: FutureWarning:\n",
            "\n",
            "The default value of `n_init` will change from 10 to 'auto' in 1.4. Set the value of `n_init` explicitly to suppress the warning\n",
            "\n",
            "/usr/local/lib/python3.10/dist-packages/sklearn/cluster/_kmeans.py:870: FutureWarning:\n",
            "\n",
            "The default value of `n_init` will change from 10 to 'auto' in 1.4. Set the value of `n_init` explicitly to suppress the warning\n",
            "\n",
            "/usr/local/lib/python3.10/dist-packages/sklearn/cluster/_kmeans.py:870: FutureWarning:\n",
            "\n",
            "The default value of `n_init` will change from 10 to 'auto' in 1.4. Set the value of `n_init` explicitly to suppress the warning\n",
            "\n"
          ]
        },
        {
          "output_type": "display_data",
          "data": {
            "text/plain": [
              "<Figure size 640x480 with 1 Axes>"
            ],
            "image/png": "[encoded data removed]"
          },
          "metadata": {}
        }
      ]
    },
    {
      "cell_type": "markdown",
      "source": [
        "Hasil tersebut berguna untuk mengidentifikasi titik di mana penambahan jumlah klaster tidak secara signifikan mengurangi inertia (total jarak kuadrat antara titik data dan pusat klaster terdekat)."
      ],
      "metadata": {
        "id": "Q3Kq3-ZLrc8c"
      }
    },
    {
      "cell_type": "markdown",
      "source": [
        "###**Build Model**"
      ],
      "metadata": {
        "id": "RuW6pT-S1c_k"
      }
    },
    {
      "cell_type": "markdown",
      "source": [
        "#####**K-Means**"
      ],
      "metadata": {
        "id": "soK1Nat51e9V"
      }
    },
    {
      "cell_type": "code",
      "source": [
        "kmeans = KMeans(n_clusters=4, random_state=42)\n",
        "kmeans.fit(x_final_norm)"
      ],
      "metadata": {
        "colab": {
          "base_uri": "https://localhost:8080/",
          "height": 163
        },
        "id": "n7TpRZdG1lJK",
        "outputId": "a5edb432-6cdc-41ad-e6c8-6642b9605079"
      },
      "execution_count": 119,
      "outputs": [
        {
          "output_type": "stream",
          "name": "stderr",
          "text": [
            "/usr/local/lib/python3.10/dist-packages/sklearn/cluster/_kmeans.py:870: FutureWarning:\n",
            "\n",
            "The default value of `n_init` will change from 10 to 'auto' in 1.4. Set the value of `n_init` explicitly to suppress the warning\n",
            "\n"
          ]
        },
        {
          "output_type": "execute_result",
          "data": {
            "text/plain": [
              "KMeans(n_clusters=4, random_state=42)"
            ],
            "text/html": [
              "<style>#sk-container-id-3 {color: black;background-color: white;}#sk-container-id-3 pre{padding: 0;}#sk-container-id-3 div.sk-toggleable {background-color: white;}#sk-container-id-3 label.sk-toggleable__label {cursor: pointer;display: block;width: 100%;margin-bottom: 0;padding: 0.3em;box-sizing: border-box;text-align: center;}#sk-container-id-3 label.sk-toggleable__label-arrow:before {content: \"▸\";float: left;margin-right: 0.25em;color: #696969;}#sk-container-id-3 label.sk-toggleable__label-arrow:hover:before {color: black;}#sk-container-id-3 div.sk-estimator:hover label.sk-toggleable__label-arrow:before {color: black;}#sk-container-id-3 div.sk-toggleable__content {max-height: 0;max-width: 0;overflow: hidden;text-align: left;background-color: #f0f8ff;}#sk-container-id-3 div.sk-toggleable__content pre {margin: 0.2em;color: black;border-radius: 0.25em;background-color: #f0f8ff;}#sk-container-id-3 input.sk-toggleable__control:checked~div.sk-toggleable__content {max-height: 200px;max-width: 100%;overflow: auto;}#sk-container-id-3 input.sk-toggleable__control:checked~label.sk-toggleable__label-arrow:before {content: \"▾\";}#sk-container-id-3 div.sk-estimator input.sk-toggleable__control:checked~label.sk-toggleable__label {background-color: #d4ebff;}#sk-container-id-3 div.sk-label input.sk-toggleable__control:checked~label.sk-toggleable__label {background-color: #d4ebff;}#sk-container-id-3 input.sk-hidden--visually {border: 0;clip: rect(1px 1px 1px 1px);clip: rect(1px, 1px, 1px, 1px);height: 1px;margin: -1px;overflow: hidden;padding: 0;position: absolute;width: 1px;}#sk-container-id-3 div.sk-estimator {font-family: monospace;background-color: #f0f8ff;border: 1px dotted black;border-radius: 0.25em;box-sizing: border-box;margin-bottom: 0.5em;}#sk-container-id-3 div.sk-estimator:hover {background-color: #d4ebff;}#sk-container-id-3 div.sk-parallel-item::after {content: \"\";width: 100%;border-bottom: 1px solid gray;flex-grow: 1;}#sk-container-id-3 div.sk-label:hover label.sk-toggleable__label {background-color: #d4ebff;}#sk-container-id-3 div.sk-serial::before {content: \"\";position: absolute;border-left: 1px solid gray;box-sizing: border-box;top: 0;bottom: 0;left: 50%;z-index: 0;}#sk-container-id-3 div.sk-serial {display: flex;flex-direction: column;align-items: center;background-color: white;padding-right: 0.2em;padding-left: 0.2em;position: relative;}#sk-container-id-3 div.sk-item {position: relative;z-index: 1;}#sk-container-id-3 div.sk-parallel {display: flex;align-items: stretch;justify-content: center;background-color: white;position: relative;}#sk-container-id-3 div.sk-item::before, #sk-container-id-3 div.sk-parallel-item::before {content: \"\";position: absolute;border-left: 1px solid gray;box-sizing: border-box;top: 0;bottom: 0;left: 50%;z-index: -1;}#sk-container-id-3 div.sk-parallel-item {display: flex;flex-direction: column;z-index: 1;position: relative;background-color: white;}#sk-container-id-3 div.sk-parallel-item:first-child::after {align-self: flex-end;width: 50%;}#sk-container-id-3 div.sk-parallel-item:last-child::after {align-self: flex-start;width: 50%;}#sk-container-id-3 div.sk-parallel-item:only-child::after {width: 0;}#sk-container-id-3 div.sk-dashed-wrapped {border: 1px dashed gray;margin: 0 0.4em 0.5em 0.4em;box-sizing: border-box;padding-bottom: 0.4em;background-color: white;}#sk-container-id-3 div.sk-label label {font-family: monospace;font-weight: bold;display: inline-block;line-height: 1.2em;}#sk-container-id-3 div.sk-label-container {text-align: center;}#sk-container-id-3 div.sk-container {/* jupyter's `normalize.less` sets `[hidden] { display: none; }` but bootstrap.min.css set `[hidden] { display: none !important; }` so we also need the `!important` here to be able to override the default hidden behavior on the sphinx rendered scikit-learn.org. See: https://github.com/scikit-learn/scikit-learn/issues/21755 */display: inline-block !important;position: relative;}#sk-container-id-3 div.sk-text-repr-fallback {display: none;}</style><div id=\"sk-container-id-3\" class=\"sk-top-container\"><div class=\"sk-text-repr-fallback\"><pre>KMeans(n_clusters=4, random_state=42)</pre><b>In a Jupyter environment, please rerun this cell to show the HTML representation or trust the notebook. <br />On GitHub, the HTML representation is unable to render, please try loading this page with nbviewer.org.</b></div><div class=\"sk-container\" hidden><div class=\"sk-item\"><div class=\"sk-estimator sk-toggleable\"><input class=\"sk-toggleable__control sk-hidden--visually\" id=\"sk-estimator-id-3\" type=\"checkbox\" checked><label for=\"sk-estimator-id-3\" class=\"sk-toggleable__label sk-toggleable__label-arrow\">KMeans</label><div class=\"sk-toggleable__content\"><pre>KMeans(n_clusters=4, random_state=42)</pre></div></div></div></div></div>"
            ]
          },
          "metadata": {},
          "execution_count": 119
        }
      ]
    },
    {
      "cell_type": "markdown",
      "source": [
        "Tujuan dari kode tersebut adalah untuk membentuk model KMeans dengan empat klaster dan melatihnya dengan menggunakan data yang telah dinormalisasi"
      ],
      "metadata": {
        "id": "owyHaNjjr0r3"
      }
    },
    {
      "cell_type": "markdown",
      "source": [
        "#####**Hierarchical Clustering**"
      ],
      "metadata": {
        "id": "vce4nciD1svm"
      }
    },
    {
      "cell_type": "code",
      "source": [
        "hc = AgglomerativeClustering(n_clusters=4, affinity='euclidean', linkage='ward')\n",
        ""
      ],
      "metadata": {
        "id": "rp5XhTzQ1wpj"
      },
      "execution_count": 120,
      "outputs": []
    },
    {
      "cell_type": "markdown",
      "source": [
        "Tujuan dari kode tersebut adalah untuk membuat model Hierarchical Clustering menggunakan algoritma aglomeratif, yang dapat digunakan untuk mengelompokkan data menjadi beberapa klaster berdasarkan jarak antara titik-titik data."
      ],
      "metadata": {
        "id": "LgTSMdAjr_xx"
      }
    },
    {
      "cell_type": "markdown",
      "source": [
        "###**Begins and Compare Clusters**"
      ],
      "metadata": {
        "id": "FaG6Iv1S2dn3"
      }
    },
    {
      "cell_type": "code",
      "source": [
        "kmeans_clust = kmeans.predict(x_final_norm) + 1\n",
        "hierarchy_clust = hc.fit_predict(x_final_norm) + 1"
      ],
      "metadata": {
        "colab": {
          "base_uri": "https://localhost:8080/"
        },
        "id": "Z7EA8r4x2fkH",
        "outputId": "1406ffa0-2da0-41b1-d109-91a8421e9022"
      },
      "execution_count": 121,
      "outputs": [
        {
          "output_type": "stream",
          "name": "stderr",
          "text": [
            "/usr/local/lib/python3.10/dist-packages/sklearn/cluster/_agglomerative.py:983: FutureWarning:\n",
            "\n",
            "Attribute `affinity` was deprecated in version 1.2 and will be removed in 1.4. Use `metric` instead\n",
            "\n"
          ]
        }
      ]
    },
    {
      "cell_type": "markdown",
      "source": [
        "Tujuan dari kode tersebut adalah untuk melakukan prediksi klaster untuk setiap titik data dalam dataset menggunakan model KMeans dan Hierarchical Clustering yang telah dibuat sebelumnya."
      ],
      "metadata": {
        "id": "Yn1Kp6ThsNLV"
      }
    },
    {
      "cell_type": "code",
      "source": [
        "\n",
        "x_final = pd.DataFrame(x_final).reset_index(drop=True)\n",
        "\n",
        "kmeans_col = pd.DataFrame(kmeans_clust, columns=[\"kmeans_cluster\"])\n",
        "hierarchy_col = pd.DataFrame(hierarchy_clust, columns=[\"hierarchy_cluster\"])\n",
        "\n",
        "combined_data_assoc = pd.concat([x_final, kmeans_col, hierarchy_col], axis=1)"
      ],
      "metadata": {
        "id": "PYrvzoO63DqX"
      },
      "execution_count": 122,
      "outputs": []
    },
    {
      "cell_type": "markdown",
      "source": [
        "Tujuan dari kode tersebut adalah untuk menggabungkan prediksi klaster dari model KMeans dan Hierarchical Clustering dengan dataframe x_final yang telah direset indeksnya, sehingga menghasilkan dataframe yang berisi data asli bersama dengan prediksi klaster untuk setiap titik data."
      ],
      "metadata": {
        "id": "E601yeXBsWGv"
      }
    },
    {
      "cell_type": "code",
      "source": [
        "combined_data_assoc.head()"
      ],
      "metadata": {
        "colab": {
          "base_uri": "https://localhost:8080/",
          "height": 273
        },
        "id": "cw4ckufl3HRu",
        "outputId": "2dc7d817-367b-47fc-c21b-0162f46d93b9"
      },
      "execution_count": 123,
      "outputs": [
        {
          "output_type": "execute_result",
          "data": {
            "text/plain": [
              "   T_Picked  T_Wins  T_Loses  T_WinRate  T_PickPercentage  BS_Picked  BS_Wins  \\\n",
              "0       527     265      262      50.28             37.70        258      125   \n",
              "1       502     255      247      50.80             35.91        245      129   \n",
              "2       479     215      264      44.89             34.26        249      121   \n",
              "3       460     249      211      54.13             32.90        224      118   \n",
              "4       433     233      200      53.81             30.97        198       99   \n",
              "\n",
              "   BS_Loses  BS_WinRate  RS_Picked  ...  Hero_ Wanwan  Hero_ X.Borg  \\\n",
              "0       133       48.45        269  ...             0             0   \n",
              "1       116       52.65        257  ...             0             0   \n",
              "2       128       48.59        230  ...             0             0   \n",
              "3       106       52.68        236  ...             0             0   \n",
              "4        99       50.00        235  ...             0             0   \n",
              "\n",
              "   Hero_ Xavier  Hero_ Yi Sun-Shin  Hero_ Yin  Hero_ Yu Zhong  Hero_ Yve  \\\n",
              "0             0                  0          0               0          0   \n",
              "1             0                  0          0               0          0   \n",
              "2             0                  0          0               0          0   \n",
              "3             0                  0          0               0          0   \n",
              "4             0                  0          0               0          0   \n",
              "\n",
              "   Hero_ Zilong  kmeans_cluster  hierarchy_cluster  \n",
              "0             0               2                  1  \n",
              "1             0               2                  1  \n",
              "2             0               2                  1  \n",
              "3             0               2                  1  \n",
              "4             0               2                  1  \n",
              "\n",
              "[5 rows x 130 columns]"
            ],
            "text/html": [
              "\n",
              "  <div id=\"df-8f6e47f4-d6be-46be-b2b6-a45a90f1eb9f\" class=\"colab-df-container\">\n",
              "    <div>\n",
              "<style scoped>\n",
              "    .dataframe tbody tr th:only-of-type {\n",
              "        vertical-align: middle;\n",
              "    }\n",
              "\n",
              "    .dataframe tbody tr th {\n",
              "        vertical-align: top;\n",
              "    }\n",
              "\n",
              "    .dataframe thead th {\n",
              "        text-align: right;\n",
              "    }\n",
              "</style>\n",
              "<table border=\"1\" class=\"dataframe\">\n",
              "  <thead>\n",
              "    <tr style=\"text-align: right;\">\n",
              "      <th></th>\n",
              "      <th>T_Picked</th>\n",
              "      <th>T_Wins</th>\n",
              "      <th>T_Loses</th>\n",
              "      <th>T_WinRate</th>\n",
              "      <th>T_PickPercentage</th>\n",
              "      <th>BS_Picked</th>\n",
              "      <th>BS_Wins</th>\n",
              "      <th>BS_Loses</th>\n",
              "      <th>BS_WinRate</th>\n",
              "      <th>RS_Picked</th>\n",
              "      <th>...</th>\n",
              "      <th>Hero_ Wanwan</th>\n",
              "      <th>Hero_ X.Borg</th>\n",
              "      <th>Hero_ Xavier</th>\n",
              "      <th>Hero_ Yi Sun-Shin</th>\n",
              "      <th>Hero_ Yin</th>\n",
              "      <th>Hero_ Yu Zhong</th>\n",
              "      <th>Hero_ Yve</th>\n",
              "      <th>Hero_ Zilong</th>\n",
              "      <th>kmeans_cluster</th>\n",
              "      <th>hierarchy_cluster</th>\n",
              "    </tr>\n",
              "  </thead>\n",
              "  <tbody>\n",
              "    <tr>\n",
              "      <th>0</th>\n",
              "      <td>527</td>\n",
              "      <td>265</td>\n",
              "      <td>262</td>\n",
              "      <td>50.28</td>\n",
              "      <td>37.70</td>\n",
              "      <td>258</td>\n",
              "      <td>125</td>\n",
              "      <td>133</td>\n",
              "      <td>48.45</td>\n",
              "      <td>269</td>\n",
              "      <td>...</td>\n",
              "      <td>0</td>\n",
              "      <td>0</td>\n",
              "      <td>0</td>\n",
              "      <td>0</td>\n",
              "      <td>0</td>\n",
              "      <td>0</td>\n",
              "      <td>0</td>\n",
              "      <td>0</td>\n",
              "      <td>2</td>\n",
              "      <td>1</td>\n",
              "    </tr>\n",
              "    <tr>\n",
              "      <th>1</th>\n",
              "      <td>502</td>\n",
              "      <td>255</td>\n",
              "      <td>247</td>\n",
              "      <td>50.80</td>\n",
              "      <td>35.91</td>\n",
              "      <td>245</td>\n",
              "      <td>129</td>\n",
              "      <td>116</td>\n",
              "      <td>52.65</td>\n",
              "      <td>257</td>\n",
              "      <td>...</td>\n",
              "      <td>0</td>\n",
              "      <td>0</td>\n",
              "      <td>0</td>\n",
              "      <td>0</td>\n",
              "      <td>0</td>\n",
              "      <td>0</td>\n",
              "      <td>0</td>\n",
              "      <td>0</td>\n",
              "      <td>2</td>\n",
              "      <td>1</td>\n",
              "    </tr>\n",
              "    <tr>\n",
              "      <th>2</th>\n",
              "      <td>479</td>\n",
              "      <td>215</td>\n",
              "      <td>264</td>\n",
              "      <td>44.89</td>\n",
              "      <td>34.26</td>\n",
              "      <td>249</td>\n",
              "      <td>121</td>\n",
              "      <td>128</td>\n",
              "      <td>48.59</td>\n",
              "      <td>230</td>\n",
              "      <td>...</td>\n",
              "      <td>0</td>\n",
              "      <td>0</td>\n",
              "      <td>0</td>\n",
              "      <td>0</td>\n",
              "      <td>0</td>\n",
              "      <td>0</td>\n",
              "      <td>0</td>\n",
              "      <td>0</td>\n",
              "      <td>2</td>\n",
              "      <td>1</td>\n",
              "    </tr>\n",
              "    <tr>\n",
              "      <th>3</th>\n",
              "      <td>460</td>\n",
              "      <td>249</td>\n",
              "      <td>211</td>\n",
              "      <td>54.13</td>\n",
              "      <td>32.90</td>\n",
              "      <td>224</td>\n",
              "      <td>118</td>\n",
              "      <td>106</td>\n",
              "      <td>52.68</td>\n",
              "      <td>236</td>\n",
              "      <td>...</td>\n",
              "      <td>0</td>\n",
              "      <td>0</td>\n",
              "      <td>0</td>\n",
              "      <td>0</td>\n",
              "      <td>0</td>\n",
              "      <td>0</td>\n",
              "      <td>0</td>\n",
              "      <td>0</td>\n",
              "      <td>2</td>\n",
              "      <td>1</td>\n",
              "    </tr>\n",
              "    <tr>\n",
              "      <th>4</th>\n",
              "      <td>433</td>\n",
              "      <td>233</td>\n",
              "      <td>200</td>\n",
              "      <td>53.81</td>\n",
              "      <td>30.97</td>\n",
              "      <td>198</td>\n",
              "      <td>99</td>\n",
              "      <td>99</td>\n",
              "      <td>50.00</td>\n",
              "      <td>235</td>\n",
              "      <td>...</td>\n",
              "      <td>0</td>\n",
              "      <td>0</td>\n",
              "      <td>0</td>\n",
              "      <td>0</td>\n",
              "      <td>0</td>\n",
              "      <td>0</td>\n",
              "      <td>0</td>\n",
              "      <td>0</td>\n",
              "      <td>2</td>\n",
              "      <td>1</td>\n",
              "    </tr>\n",
              "  </tbody>\n",
              "</table>\n",
              "<p>5 rows × 130 columns</p>\n",
              "</div>\n",
              "    <div class=\"colab-df-buttons\">\n",
              "\n",
              "  <div class=\"colab-df-container\">\n",
              "    <button class=\"colab-df-convert\" onclick=\"convertToInteractive('df-8f6e47f4-d6be-46be-b2b6-a45a90f1eb9f')\"\n",
              "            title=\"Convert this dataframe to an interactive table.\"\n",
              "            style=\"display:none;\">\n",
              "\n",
              "  <svg xmlns=\"http://www.w3.org/2000/svg\" height=\"24px\" viewBox=\"0 -960 960 960\">\n",
              "    <path d=\"M120-120v-720h720v720H120Zm60-500h600v-160H180v160Zm220 220h160v-160H400v160Zm0 220h160v-160H400v160ZM180-400h160v-160H180v160Zm440 0h160v-160H620v160ZM180-180h160v-160H180v160Zm440 0h160v-160H620v160Z\"/>\n",
              "  </svg>\n",
              "    </button>\n",
              "\n",
              "  <style>\n",
              "    .colab-df-container {\n",
              "      display:flex;\n",
              "      gap: 12px;\n",
              "    }\n",
              "\n",
              "    .colab-df-convert {\n",
              "      background-color: #E8F0FE;\n",
              "      border: none;\n",
              "      border-radius: 50%;\n",
              "      cursor: pointer;\n",
              "      display: none;\n",
              "      fill: #1967D2;\n",
              "      height: 32px;\n",
              "      padding: 0 0 0 0;\n",
              "      width: 32px;\n",
              "    }\n",
              "\n",
              "    .colab-df-convert:hover {\n",
              "      background-color: #E2EBFA;\n",
              "      box-shadow: 0px 1px 2px rgba(60, 64, 67, 0.3), 0px 1px 3px 1px rgba(60, 64, 67, 0.15);\n",
              "      fill: #174EA6;\n",
              "    }\n",
              "\n",
              "    .colab-df-buttons div {\n",
              "      margin-bottom: 4px;\n",
              "    }\n",
              "\n",
              "    [theme=dark] .colab-df-convert {\n",
              "      background-color: #3B4455;\n",
              "      fill: #D2E3FC;\n",
              "    }\n",
              "\n",
              "    [theme=dark] .colab-df-convert:hover {\n",
              "      background-color: #434B5C;\n",
              "      box-shadow: 0px 1px 3px 1px rgba(0, 0, 0, 0.15);\n",
              "      filter: drop-shadow(0px 1px 2px rgba(0, 0, 0, 0.3));\n",
              "      fill: #FFFFFF;\n",
              "    }\n",
              "  </style>\n",
              "\n",
              "    <script>\n",
              "      const buttonEl =\n",
              "        document.querySelector('#df-8f6e47f4-d6be-46be-b2b6-a45a90f1eb9f button.colab-df-convert');\n",
              "      buttonEl.style.display =\n",
              "        google.colab.kernel.accessAllowed ? 'block' : 'none';\n",
              "\n",
              "      async function convertToInteractive(key) {\n",
              "        const element = document.querySelector('#df-8f6e47f4-d6be-46be-b2b6-a45a90f1eb9f');\n",
              "        const dataTable =\n",
              "          await google.colab.kernel.invokeFunction('convertToInteractive',\n",
              "                                                    [key], {});\n",
              "        if (!dataTable) return;\n",
              "\n",
              "        const docLinkHtml = 'Like what you see? Visit the ' +\n",
              "          '<a target=\"_blank\" href=https://colab.research.google.com/notebooks/data_table.ipynb>data table notebook</a>'\n",
              "          + ' to learn more about interactive tables.';\n",
              "        element.innerHTML = '';\n",
              "        dataTable['output_type'] = 'display_data';\n",
              "        await google.colab.output.renderOutput(dataTable, element);\n",
              "        const docLink = document.createElement('div');\n",
              "        docLink.innerHTML = docLinkHtml;\n",
              "        element.appendChild(docLink);\n",
              "      }\n",
              "    </script>\n",
              "  </div>\n",
              "\n",
              "\n",
              "<div id=\"df-7c162712-f503-4d2b-88ac-24d19c211d07\">\n",
              "  <button class=\"colab-df-quickchart\" onclick=\"quickchart('df-7c162712-f503-4d2b-88ac-24d19c211d07')\"\n",
              "            title=\"Suggest charts\"\n",
              "            style=\"display:none;\">\n",
              "\n",
              "<svg xmlns=\"http://www.w3.org/2000/svg\" height=\"24px\"viewBox=\"0 0 24 24\"\n",
              "     width=\"24px\">\n",
              "    <g>\n",
              "        <path d=\"M19 3H5c-1.1 0-2 .9-2 2v14c0 1.1.9 2 2 2h14c1.1 0 2-.9 2-2V5c0-1.1-.9-2-2-2zM9 17H7v-7h2v7zm4 0h-2V7h2v10zm4 0h-2v-4h2v4z\"/>\n",
              "    </g>\n",
              "</svg>\n",
              "  </button>\n",
              "\n",
              "<style>\n",
              "  .colab-df-quickchart {\n",
              "      --bg-color: #E8F0FE;\n",
              "      --fill-color: #1967D2;\n",
              "      --hover-bg-color: #E2EBFA;\n",
              "      --hover-fill-color: #174EA6;\n",
              "      --disabled-fill-color: #AAA;\n",
              "      --disabled-bg-color: #DDD;\n",
              "  }\n",
              "\n",
              "  [theme=dark] .colab-df-quickchart {\n",
              "      --bg-color: #3B4455;\n",
              "      --fill-color: #D2E3FC;\n",
              "      --hover-bg-color: #434B5C;\n",
              "      --hover-fill-color: #FFFFFF;\n",
              "      --disabled-bg-color: #3B4455;\n",
              "      --disabled-fill-color: #666;\n",
              "  }\n",
              "\n",
              "  .colab-df-quickchart {\n",
              "    background-color: var(--bg-color);\n",
              "    border: none;\n",
              "    border-radius: 50%;\n",
              "    cursor: pointer;\n",
              "    display: none;\n",
              "    fill: var(--fill-color);\n",
              "    height: 32px;\n",
              "    padding: 0;\n",
              "    width: 32px;\n",
              "  }\n",
              "\n",
              "  .colab-df-quickchart:hover {\n",
              "    background-color: var(--hover-bg-color);\n",
              "    box-shadow: 0 1px 2px rgba(60, 64, 67, 0.3), 0 1px 3px 1px rgba(60, 64, 67, 0.15);\n",
              "    fill: var(--button-hover-fill-color);\n",
              "  }\n",
              "\n",
              "  .colab-df-quickchart-complete:disabled,\n",
              "  .colab-df-quickchart-complete:disabled:hover {\n",
              "    background-color: var(--disabled-bg-color);\n",
              "    fill: var(--disabled-fill-color);\n",
              "    box-shadow: none;\n",
              "  }\n",
              "\n",
              "  .colab-df-spinner {\n",
              "    border: 2px solid var(--fill-color);\n",
              "    border-color: transparent;\n",
              "    border-bottom-color: var(--fill-color);\n",
              "    animation:\n",
              "      spin 1s steps(1) infinite;\n",
              "  }\n",
              "\n",
              "  @keyframes spin {\n",
              "    0% {\n",
              "      border-color: transparent;\n",
              "      border-bottom-color: var(--fill-color);\n",
              "      border-left-color: var(--fill-color);\n",
              "    }\n",
              "    20% {\n",
              "      border-color: transparent;\n",
              "      border-left-color: var(--fill-color);\n",
              "      border-top-color: var(--fill-color);\n",
              "    }\n",
              "    30% {\n",
              "      border-color: transparent;\n",
              "      border-left-color: var(--fill-color);\n",
              "      border-top-color: var(--fill-color);\n",
              "      border-right-color: var(--fill-color);\n",
              "    }\n",
              "    40% {\n",
              "      border-color: transparent;\n",
              "      border-right-color: var(--fill-color);\n",
              "      border-top-color: var(--fill-color);\n",
              "    }\n",
              "    60% {\n",
              "      border-color: transparent;\n",
              "      border-right-color: var(--fill-color);\n",
              "    }\n",
              "    80% {\n",
              "      border-color: transparent;\n",
              "      border-right-color: var(--fill-color);\n",
              "      border-bottom-color: var(--fill-color);\n",
              "    }\n",
              "    90% {\n",
              "      border-color: transparent;\n",
              "      border-bottom-color: var(--fill-color);\n",
              "    }\n",
              "  }\n",
              "</style>\n",
              "\n",
              "  <script>\n",
              "    async function quickchart(key) {\n",
              "      const quickchartButtonEl =\n",
              "        document.querySelector('#' + key + ' button');\n",
              "      quickchartButtonEl.disabled = true;  // To prevent multiple clicks.\n",
              "      quickchartButtonEl.classList.add('colab-df-spinner');\n",
              "      try {\n",
              "        const charts = await google.colab.kernel.invokeFunction(\n",
              "            'suggestCharts', [key], {});\n",
              "      } catch (error) {\n",
              "        console.error('Error during call to suggestCharts:', error);\n",
              "      }\n",
              "      quickchartButtonEl.classList.remove('colab-df-spinner');\n",
              "      quickchartButtonEl.classList.add('colab-df-quickchart-complete');\n",
              "    }\n",
              "    (() => {\n",
              "      let quickchartButtonEl =\n",
              "        document.querySelector('#df-7c162712-f503-4d2b-88ac-24d19c211d07 button');\n",
              "      quickchartButtonEl.style.display =\n",
              "        google.colab.kernel.accessAllowed ? 'block' : 'none';\n",
              "    })();\n",
              "  </script>\n",
              "</div>\n",
              "    </div>\n",
              "  </div>\n"
            ],
            "application/vnd.google.colaboratory.intrinsic+json": {
              "type": "dataframe",
              "variable_name": "combined_data_assoc"
            }
          },
          "metadata": {},
          "execution_count": 123
        }
      ]
    },
    {
      "cell_type": "markdown",
      "source": [
        "Menetapkan dataframe yang telah digabungkan, yaitu combined_data_assoc, ke dalam variabel df. Hal ini memungkinkan variabel df untuk digunakan sebagai referensi dataframe yang berisi data asli serta prediksi klaster dari model KMeans dan Hierarchical Clustering, sehingga dapat digunakan sebagai dataframe dalam tahap Modelling Predict.\n",
        "Output tersebut menampilkan data sampel dari dataframe yang telah dilakukan Modelling Associate."
      ],
      "metadata": {
        "id": "9TTG5M3nsYwB"
      }
    },
    {
      "cell_type": "code",
      "source": [
        "df"
      ],
      "metadata": {
        "colab": {
          "base_uri": "https://localhost:8080/",
          "height": 461
        },
        "id": "wGKw3B80w2xa",
        "outputId": "60402959-d751-4ac4-ba88-8ad34d34f38d"
      },
      "execution_count": 124,
      "outputs": [
        {
          "output_type": "execute_result",
          "data": {
            "text/plain": [
              "     T_Picked  T_Wins  T_Loses  T_WinRate  T_PickPercentage  BS_Picked  \\\n",
              "0         527     265      262      50.28             37.70        258   \n",
              "1         502     255      247      50.80             35.91        245   \n",
              "2         479     215      264      44.89             34.26        249   \n",
              "3         460     249      211      54.13             32.90        224   \n",
              "4         433     233      200      53.81             30.97        198   \n",
              "..        ...     ...      ...        ...               ...        ...   \n",
              "105         1       0        1       0.00              0.07          1   \n",
              "106         1       0        1       0.00              0.07          0   \n",
              "107         1       0        1       0.00              0.07          0   \n",
              "108         0       0        0      47.56              0.00          0   \n",
              "109         0       0        0      47.56              0.00          0   \n",
              "\n",
              "     BS_Wins  BS_Loses  BS_WinRate  RS_Picked  ...  Hero_ Valir  Hero_ Vexana  \\\n",
              "0        125       133       48.45        269  ...            0             0   \n",
              "1        129       116       52.65        257  ...            0             0   \n",
              "2        121       128       48.59        230  ...            0             0   \n",
              "3        118       106       52.68        236  ...            0             0   \n",
              "4         99        99       50.00        235  ...            0             0   \n",
              "..       ...       ...         ...        ...  ...          ...           ...   \n",
              "105        0         1        0.00          0  ...            0             0   \n",
              "106        0         0       47.73          1  ...            0             1   \n",
              "107        0         0       47.73          1  ...            0             0   \n",
              "108        0         0       47.73          0  ...            0             0   \n",
              "109        0         0       47.73          0  ...            0             0   \n",
              "\n",
              "     Hero_ Wanwan  Hero_ X.Borg  Hero_ Xavier  Hero_ Yi Sun-Shin  Hero_ Yin  \\\n",
              "0               0             0             0                  0          0   \n",
              "1               0             0             0                  0          0   \n",
              "2               0             0             0                  0          0   \n",
              "3               0             0             0                  0          0   \n",
              "4               0             0             0                  0          0   \n",
              "..            ...           ...           ...                ...        ...   \n",
              "105             0             0             0                  0          0   \n",
              "106             0             0             0                  0          0   \n",
              "107             0             0             0                  0          0   \n",
              "108             0             0             0                  0          0   \n",
              "109             0             0             0                  0          0   \n",
              "\n",
              "     Hero_ Yu Zhong  Hero_ Yve  Hero_ Zilong  \n",
              "0                 0          0             0  \n",
              "1                 0          0             0  \n",
              "2                 0          0             0  \n",
              "3                 0          0             0  \n",
              "4                 0          0             0  \n",
              "..              ...        ...           ...  \n",
              "105               0          0             0  \n",
              "106               0          0             0  \n",
              "107               0          0             1  \n",
              "108               0          0             0  \n",
              "109               0          0             0  \n",
              "\n",
              "[110 rows x 128 columns]"
            ],
            "text/html": [
              "\n",
              "  <div id=\"df-f1f61284-5350-43c3-a226-6fdfa0506e82\" class=\"colab-df-container\">\n",
              "    <div>\n",
              "<style scoped>\n",
              "    .dataframe tbody tr th:only-of-type {\n",
              "        vertical-align: middle;\n",
              "    }\n",
              "\n",
              "    .dataframe tbody tr th {\n",
              "        vertical-align: top;\n",
              "    }\n",
              "\n",
              "    .dataframe thead th {\n",
              "        text-align: right;\n",
              "    }\n",
              "</style>\n",
              "<table border=\"1\" class=\"dataframe\">\n",
              "  <thead>\n",
              "    <tr style=\"text-align: right;\">\n",
              "      <th></th>\n",
              "      <th>T_Picked</th>\n",
              "      <th>T_Wins</th>\n",
              "      <th>T_Loses</th>\n",
              "      <th>T_WinRate</th>\n",
              "      <th>T_PickPercentage</th>\n",
              "      <th>BS_Picked</th>\n",
              "      <th>BS_Wins</th>\n",
              "      <th>BS_Loses</th>\n",
              "      <th>BS_WinRate</th>\n",
              "      <th>RS_Picked</th>\n",
              "      <th>...</th>\n",
              "      <th>Hero_ Valir</th>\n",
              "      <th>Hero_ Vexana</th>\n",
              "      <th>Hero_ Wanwan</th>\n",
              "      <th>Hero_ X.Borg</th>\n",
              "      <th>Hero_ Xavier</th>\n",
              "      <th>Hero_ Yi Sun-Shin</th>\n",
              "      <th>Hero_ Yin</th>\n",
              "      <th>Hero_ Yu Zhong</th>\n",
              "      <th>Hero_ Yve</th>\n",
              "      <th>Hero_ Zilong</th>\n",
              "    </tr>\n",
              "  </thead>\n",
              "  <tbody>\n",
              "    <tr>\n",
              "      <th>0</th>\n",
              "      <td>527</td>\n",
              "      <td>265</td>\n",
              "      <td>262</td>\n",
              "      <td>50.28</td>\n",
              "      <td>37.70</td>\n",
              "      <td>258</td>\n",
              "      <td>125</td>\n",
              "      <td>133</td>\n",
              "      <td>48.45</td>\n",
              "      <td>269</td>\n",
              "      <td>...</td>\n",
              "      <td>0</td>\n",
              "      <td>0</td>\n",
              "      <td>0</td>\n",
              "      <td>0</td>\n",
              "      <td>0</td>\n",
              "      <td>0</td>\n",
              "      <td>0</td>\n",
              "      <td>0</td>\n",
              "      <td>0</td>\n",
              "      <td>0</td>\n",
              "    </tr>\n",
              "    <tr>\n",
              "      <th>1</th>\n",
              "      <td>502</td>\n",
              "      <td>255</td>\n",
              "      <td>247</td>\n",
              "      <td>50.80</td>\n",
              "      <td>35.91</td>\n",
              "      <td>245</td>\n",
              "      <td>129</td>\n",
              "      <td>116</td>\n",
              "      <td>52.65</td>\n",
              "      <td>257</td>\n",
              "      <td>...</td>\n",
              "      <td>0</td>\n",
              "      <td>0</td>\n",
              "      <td>0</td>\n",
              "      <td>0</td>\n",
              "      <td>0</td>\n",
              "      <td>0</td>\n",
              "      <td>0</td>\n",
              "      <td>0</td>\n",
              "      <td>0</td>\n",
              "      <td>0</td>\n",
              "    </tr>\n",
              "    <tr>\n",
              "      <th>2</th>\n",
              "      <td>479</td>\n",
              "      <td>215</td>\n",
              "      <td>264</td>\n",
              "      <td>44.89</td>\n",
              "      <td>34.26</td>\n",
              "      <td>249</td>\n",
              "      <td>121</td>\n",
              "      <td>128</td>\n",
              "      <td>48.59</td>\n",
              "      <td>230</td>\n",
              "      <td>...</td>\n",
              "      <td>0</td>\n",
              "      <td>0</td>\n",
              "      <td>0</td>\n",
              "      <td>0</td>\n",
              "      <td>0</td>\n",
              "      <td>0</td>\n",
              "      <td>0</td>\n",
              "      <td>0</td>\n",
              "      <td>0</td>\n",
              "      <td>0</td>\n",
              "    </tr>\n",
              "    <tr>\n",
              "      <th>3</th>\n",
              "      <td>460</td>\n",
              "      <td>249</td>\n",
              "      <td>211</td>\n",
              "      <td>54.13</td>\n",
              "      <td>32.90</td>\n",
              "      <td>224</td>\n",
              "      <td>118</td>\n",
              "      <td>106</td>\n",
              "      <td>52.68</td>\n",
              "      <td>236</td>\n",
              "      <td>...</td>\n",
              "      <td>0</td>\n",
              "      <td>0</td>\n",
              "      <td>0</td>\n",
              "      <td>0</td>\n",
              "      <td>0</td>\n",
              "      <td>0</td>\n",
              "      <td>0</td>\n",
              "      <td>0</td>\n",
              "      <td>0</td>\n",
              "      <td>0</td>\n",
              "    </tr>\n",
              "    <tr>\n",
              "      <th>4</th>\n",
              "      <td>433</td>\n",
              "      <td>233</td>\n",
              "      <td>200</td>\n",
              "      <td>53.81</td>\n",
              "      <td>30.97</td>\n",
              "      <td>198</td>\n",
              "      <td>99</td>\n",
              "      <td>99</td>\n",
              "      <td>50.00</td>\n",
              "      <td>235</td>\n",
              "      <td>...</td>\n",
              "      <td>0</td>\n",
              "      <td>0</td>\n",
              "      <td>0</td>\n",
              "      <td>0</td>\n",
              "      <td>0</td>\n",
              "      <td>0</td>\n",
              "      <td>0</td>\n",
              "      <td>0</td>\n",
              "      <td>0</td>\n",
              "      <td>0</td>\n",
              "    </tr>\n",
              "    <tr>\n",
              "      <th>...</th>\n",
              "      <td>...</td>\n",
              "      <td>...</td>\n",
              "      <td>...</td>\n",
              "      <td>...</td>\n",
              "      <td>...</td>\n",
              "      <td>...</td>\n",
              "      <td>...</td>\n",
              "      <td>...</td>\n",
              "      <td>...</td>\n",
              "      <td>...</td>\n",
              "      <td>...</td>\n",
              "      <td>...</td>\n",
              "      <td>...</td>\n",
              "      <td>...</td>\n",
              "      <td>...</td>\n",
              "      <td>...</td>\n",
              "      <td>...</td>\n",
              "      <td>...</td>\n",
              "      <td>...</td>\n",
              "      <td>...</td>\n",
              "      <td>...</td>\n",
              "    </tr>\n",
              "    <tr>\n",
              "      <th>105</th>\n",
              "      <td>1</td>\n",
              "      <td>0</td>\n",
              "      <td>1</td>\n",
              "      <td>0.00</td>\n",
              "      <td>0.07</td>\n",
              "      <td>1</td>\n",
              "      <td>0</td>\n",
              "      <td>1</td>\n",
              "      <td>0.00</td>\n",
              "      <td>0</td>\n",
              "      <td>...</td>\n",
              "      <td>0</td>\n",
              "      <td>0</td>\n",
              "      <td>0</td>\n",
              "      <td>0</td>\n",
              "      <td>0</td>\n",
              "      <td>0</td>\n",
              "      <td>0</td>\n",
              "      <td>0</td>\n",
              "      <td>0</td>\n",
              "      <td>0</td>\n",
              "    </tr>\n",
              "    <tr>\n",
              "      <th>106</th>\n",
              "      <td>1</td>\n",
              "      <td>0</td>\n",
              "      <td>1</td>\n",
              "      <td>0.00</td>\n",
              "      <td>0.07</td>\n",
              "      <td>0</td>\n",
              "      <td>0</td>\n",
              "      <td>0</td>\n",
              "      <td>47.73</td>\n",
              "      <td>1</td>\n",
              "      <td>...</td>\n",
              "      <td>0</td>\n",
              "      <td>1</td>\n",
              "      <td>0</td>\n",
              "      <td>0</td>\n",
              "      <td>0</td>\n",
              "      <td>0</td>\n",
              "      <td>0</td>\n",
              "      <td>0</td>\n",
              "      <td>0</td>\n",
              "      <td>0</td>\n",
              "    </tr>\n",
              "    <tr>\n",
              "      <th>107</th>\n",
              "      <td>1</td>\n",
              "      <td>0</td>\n",
              "      <td>1</td>\n",
              "      <td>0.00</td>\n",
              "      <td>0.07</td>\n",
              "      <td>0</td>\n",
              "      <td>0</td>\n",
              "      <td>0</td>\n",
              "      <td>47.73</td>\n",
              "      <td>1</td>\n",
              "      <td>...</td>\n",
              "      <td>0</td>\n",
              "      <td>0</td>\n",
              "      <td>0</td>\n",
              "      <td>0</td>\n",
              "      <td>0</td>\n",
              "      <td>0</td>\n",
              "      <td>0</td>\n",
              "      <td>0</td>\n",
              "      <td>0</td>\n",
              "      <td>1</td>\n",
              "    </tr>\n",
              "    <tr>\n",
              "      <th>108</th>\n",
              "      <td>0</td>\n",
              "      <td>0</td>\n",
              "      <td>0</td>\n",
              "      <td>47.56</td>\n",
              "      <td>0.00</td>\n",
              "      <td>0</td>\n",
              "      <td>0</td>\n",
              "      <td>0</td>\n",
              "      <td>47.73</td>\n",
              "      <td>0</td>\n",
              "      <td>...</td>\n",
              "      <td>0</td>\n",
              "      <td>0</td>\n",
              "      <td>0</td>\n",
              "      <td>0</td>\n",
              "      <td>0</td>\n",
              "      <td>0</td>\n",
              "      <td>0</td>\n",
              "      <td>0</td>\n",
              "      <td>0</td>\n",
              "      <td>0</td>\n",
              "    </tr>\n",
              "    <tr>\n",
              "      <th>109</th>\n",
              "      <td>0</td>\n",
              "      <td>0</td>\n",
              "      <td>0</td>\n",
              "      <td>47.56</td>\n",
              "      <td>0.00</td>\n",
              "      <td>0</td>\n",
              "      <td>0</td>\n",
              "      <td>0</td>\n",
              "      <td>47.73</td>\n",
              "      <td>0</td>\n",
              "      <td>...</td>\n",
              "      <td>0</td>\n",
              "      <td>0</td>\n",
              "      <td>0</td>\n",
              "      <td>0</td>\n",
              "      <td>0</td>\n",
              "      <td>0</td>\n",
              "      <td>0</td>\n",
              "      <td>0</td>\n",
              "      <td>0</td>\n",
              "      <td>0</td>\n",
              "    </tr>\n",
              "  </tbody>\n",
              "</table>\n",
              "<p>110 rows × 128 columns</p>\n",
              "</div>\n",
              "    <div class=\"colab-df-buttons\">\n",
              "\n",
              "  <div class=\"colab-df-container\">\n",
              "    <button class=\"colab-df-convert\" onclick=\"convertToInteractive('df-f1f61284-5350-43c3-a226-6fdfa0506e82')\"\n",
              "            title=\"Convert this dataframe to an interactive table.\"\n",
              "            style=\"display:none;\">\n",
              "\n",
              "  <svg xmlns=\"http://www.w3.org/2000/svg\" height=\"24px\" viewBox=\"0 -960 960 960\">\n",
              "    <path d=\"M120-120v-720h720v720H120Zm60-500h600v-160H180v160Zm220 220h160v-160H400v160Zm0 220h160v-160H400v160ZM180-400h160v-160H180v160Zm440 0h160v-160H620v160ZM180-180h160v-160H180v160Zm440 0h160v-160H620v160Z\"/>\n",
              "  </svg>\n",
              "    </button>\n",
              "\n",
              "  <style>\n",
              "    .colab-df-container {\n",
              "      display:flex;\n",
              "      gap: 12px;\n",
              "    }\n",
              "\n",
              "    .colab-df-convert {\n",
              "      background-color: #E8F0FE;\n",
              "      border: none;\n",
              "      border-radius: 50%;\n",
              "      cursor: pointer;\n",
              "      display: none;\n",
              "      fill: #1967D2;\n",
              "      height: 32px;\n",
              "      padding: 0 0 0 0;\n",
              "      width: 32px;\n",
              "    }\n",
              "\n",
              "    .colab-df-convert:hover {\n",
              "      background-color: #E2EBFA;\n",
              "      box-shadow: 0px 1px 2px rgba(60, 64, 67, 0.3), 0px 1px 3px 1px rgba(60, 64, 67, 0.15);\n",
              "      fill: #174EA6;\n",
              "    }\n",
              "\n",
              "    .colab-df-buttons div {\n",
              "      margin-bottom: 4px;\n",
              "    }\n",
              "\n",
              "    [theme=dark] .colab-df-convert {\n",
              "      background-color: #3B4455;\n",
              "      fill: #D2E3FC;\n",
              "    }\n",
              "\n",
              "    [theme=dark] .colab-df-convert:hover {\n",
              "      background-color: #434B5C;\n",
              "      box-shadow: 0px 1px 3px 1px rgba(0, 0, 0, 0.15);\n",
              "      filter: drop-shadow(0px 1px 2px rgba(0, 0, 0, 0.3));\n",
              "      fill: #FFFFFF;\n",
              "    }\n",
              "  </style>\n",
              "\n",
              "    <script>\n",
              "      const buttonEl =\n",
              "        document.querySelector('#df-f1f61284-5350-43c3-a226-6fdfa0506e82 button.colab-df-convert');\n",
              "      buttonEl.style.display =\n",
              "        google.colab.kernel.accessAllowed ? 'block' : 'none';\n",
              "\n",
              "      async function convertToInteractive(key) {\n",
              "        const element = document.querySelector('#df-f1f61284-5350-43c3-a226-6fdfa0506e82');\n",
              "        const dataTable =\n",
              "          await google.colab.kernel.invokeFunction('convertToInteractive',\n",
              "                                                    [key], {});\n",
              "        if (!dataTable) return;\n",
              "\n",
              "        const docLinkHtml = 'Like what you see? Visit the ' +\n",
              "          '<a target=\"_blank\" href=https://colab.research.google.com/notebooks/data_table.ipynb>data table notebook</a>'\n",
              "          + ' to learn more about interactive tables.';\n",
              "        element.innerHTML = '';\n",
              "        dataTable['output_type'] = 'display_data';\n",
              "        await google.colab.output.renderOutput(dataTable, element);\n",
              "        const docLink = document.createElement('div');\n",
              "        docLink.innerHTML = docLinkHtml;\n",
              "        element.appendChild(docLink);\n",
              "      }\n",
              "    </script>\n",
              "  </div>\n",
              "\n",
              "\n",
              "<div id=\"df-d5ab5b85-d55b-4bae-9294-2af805a9a775\">\n",
              "  <button class=\"colab-df-quickchart\" onclick=\"quickchart('df-d5ab5b85-d55b-4bae-9294-2af805a9a775')\"\n",
              "            title=\"Suggest charts\"\n",
              "            style=\"display:none;\">\n",
              "\n",
              "<svg xmlns=\"http://www.w3.org/2000/svg\" height=\"24px\"viewBox=\"0 0 24 24\"\n",
              "     width=\"24px\">\n",
              "    <g>\n",
              "        <path d=\"M19 3H5c-1.1 0-2 .9-2 2v14c0 1.1.9 2 2 2h14c1.1 0 2-.9 2-2V5c0-1.1-.9-2-2-2zM9 17H7v-7h2v7zm4 0h-2V7h2v10zm4 0h-2v-4h2v4z\"/>\n",
              "    </g>\n",
              "</svg>\n",
              "  </button>\n",
              "\n",
              "<style>\n",
              "  .colab-df-quickchart {\n",
              "      --bg-color: #E8F0FE;\n",
              "      --fill-color: #1967D2;\n",
              "      --hover-bg-color: #E2EBFA;\n",
              "      --hover-fill-color: #174EA6;\n",
              "      --disabled-fill-color: #AAA;\n",
              "      --disabled-bg-color: #DDD;\n",
              "  }\n",
              "\n",
              "  [theme=dark] .colab-df-quickchart {\n",
              "      --bg-color: #3B4455;\n",
              "      --fill-color: #D2E3FC;\n",
              "      --hover-bg-color: #434B5C;\n",
              "      --hover-fill-color: #FFFFFF;\n",
              "      --disabled-bg-color: #3B4455;\n",
              "      --disabled-fill-color: #666;\n",
              "  }\n",
              "\n",
              "  .colab-df-quickchart {\n",
              "    background-color: var(--bg-color);\n",
              "    border: none;\n",
              "    border-radius: 50%;\n",
              "    cursor: pointer;\n",
              "    display: none;\n",
              "    fill: var(--fill-color);\n",
              "    height: 32px;\n",
              "    padding: 0;\n",
              "    width: 32px;\n",
              "  }\n",
              "\n",
              "  .colab-df-quickchart:hover {\n",
              "    background-color: var(--hover-bg-color);\n",
              "    box-shadow: 0 1px 2px rgba(60, 64, 67, 0.3), 0 1px 3px 1px rgba(60, 64, 67, 0.15);\n",
              "    fill: var(--button-hover-fill-color);\n",
              "  }\n",
              "\n",
              "  .colab-df-quickchart-complete:disabled,\n",
              "  .colab-df-quickchart-complete:disabled:hover {\n",
              "    background-color: var(--disabled-bg-color);\n",
              "    fill: var(--disabled-fill-color);\n",
              "    box-shadow: none;\n",
              "  }\n",
              "\n",
              "  .colab-df-spinner {\n",
              "    border: 2px solid var(--fill-color);\n",
              "    border-color: transparent;\n",
              "    border-bottom-color: var(--fill-color);\n",
              "    animation:\n",
              "      spin 1s steps(1) infinite;\n",
              "  }\n",
              "\n",
              "  @keyframes spin {\n",
              "    0% {\n",
              "      border-color: transparent;\n",
              "      border-bottom-color: var(--fill-color);\n",
              "      border-left-color: var(--fill-color);\n",
              "    }\n",
              "    20% {\n",
              "      border-color: transparent;\n",
              "      border-left-color: var(--fill-color);\n",
              "      border-top-color: var(--fill-color);\n",
              "    }\n",
              "    30% {\n",
              "      border-color: transparent;\n",
              "      border-left-color: var(--fill-color);\n",
              "      border-top-color: var(--fill-color);\n",
              "      border-right-color: var(--fill-color);\n",
              "    }\n",
              "    40% {\n",
              "      border-color: transparent;\n",
              "      border-right-color: var(--fill-color);\n",
              "      border-top-color: var(--fill-color);\n",
              "    }\n",
              "    60% {\n",
              "      border-color: transparent;\n",
              "      border-right-color: var(--fill-color);\n",
              "    }\n",
              "    80% {\n",
              "      border-color: transparent;\n",
              "      border-right-color: var(--fill-color);\n",
              "      border-bottom-color: var(--fill-color);\n",
              "    }\n",
              "    90% {\n",
              "      border-color: transparent;\n",
              "      border-bottom-color: var(--fill-color);\n",
              "    }\n",
              "  }\n",
              "</style>\n",
              "\n",
              "  <script>\n",
              "    async function quickchart(key) {\n",
              "      const quickchartButtonEl =\n",
              "        document.querySelector('#' + key + ' button');\n",
              "      quickchartButtonEl.disabled = true;  // To prevent multiple clicks.\n",
              "      quickchartButtonEl.classList.add('colab-df-spinner');\n",
              "      try {\n",
              "        const charts = await google.colab.kernel.invokeFunction(\n",
              "            'suggestCharts', [key], {});\n",
              "      } catch (error) {\n",
              "        console.error('Error during call to suggestCharts:', error);\n",
              "      }\n",
              "      quickchartButtonEl.classList.remove('colab-df-spinner');\n",
              "      quickchartButtonEl.classList.add('colab-df-quickchart-complete');\n",
              "    }\n",
              "    (() => {\n",
              "      let quickchartButtonEl =\n",
              "        document.querySelector('#df-d5ab5b85-d55b-4bae-9294-2af805a9a775 button');\n",
              "      quickchartButtonEl.style.display =\n",
              "        google.colab.kernel.accessAllowed ? 'block' : 'none';\n",
              "    })();\n",
              "  </script>\n",
              "</div>\n",
              "    </div>\n",
              "  </div>\n"
            ],
            "application/vnd.google.colaboratory.intrinsic+json": {
              "type": "dataframe",
              "variable_name": "df"
            }
          },
          "metadata": {},
          "execution_count": 124
        }
      ]
    }
  ]
}